{
 "cells": [
  {
   "cell_type": "code",
   "execution_count": 14,
   "id": "7b3f08b9-2fd5-4210-8983-462896d74eea",
   "metadata": {},
   "outputs": [],
   "source": [
    "import pandas as pd\n",
    "import numpy as np\n",
    "import matplotlib.pyplot as plt\n",
    "%matplotlib inline\n",
    "from sklearn.preprocessing import StandardScaler\n",
    "\n",
    "import seaborn as sns"
   ]
  },
  {
   "cell_type": "code",
   "execution_count": 15,
   "id": "344c21b0-4006-47bd-b619-b9fb831f3561",
   "metadata": {},
   "outputs": [
    {
     "name": "stdout",
     "output_type": "stream",
     "text": [
      "The data is read.\n"
     ]
    }
   ],
   "source": [
    "df = pd.read_csv('../data/raw/train.csv')\n",
    "print(\"The data is read.\")"
   ]
  },
  {
   "cell_type": "code",
   "execution_count": 16,
   "id": "69ba5649-8c9b-4298-8c09-c34c8a6fe4dc",
   "metadata": {},
   "outputs": [
    {
     "data": {
      "text/plain": [
       "(1460, 81)"
      ]
     },
     "execution_count": 16,
     "metadata": {},
     "output_type": "execute_result"
    }
   ],
   "source": [
    "df.shape"
   ]
  },
  {
   "cell_type": "code",
   "execution_count": 18,
   "id": "042381e3-07b2-449a-9083-ef8f1bf313c9",
   "metadata": {},
   "outputs": [
    {
     "data": {
      "text/plain": [
       "dtype('int64')"
      ]
     },
     "execution_count": 18,
     "metadata": {},
     "output_type": "execute_result"
    }
   ],
   "source": [
    "df.GarageCars.dtypes"
   ]
  },
  {
   "cell_type": "markdown",
   "id": "e7105e67-d07a-474d-9e48-a0f23181c923",
   "metadata": {},
   "source": [
    "## Outlier Handling"
   ]
  },
  {
   "cell_type": "code",
   "execution_count": 4,
   "id": "5a2c70a9-31fe-4498-a4b9-97d2f12a32fc",
   "metadata": {},
   "outputs": [
    {
     "data": {
      "text/plain": [
       "<AxesSubplot:xlabel='SalePrice'>"
      ]
     },
     "execution_count": 4,
     "metadata": {},
     "output_type": "execute_result"
    },
    {
     "data": {
      "image/png": "[encoded data removed]",
      "text/plain": [
       "<Figure size 432x288 with 1 Axes>"
      ]
     },
     "metadata": {
      "needs_background": "light"
     },
     "output_type": "display_data"
    }
   ],
   "source": [
    "sns.boxplot(x = df['SalePrice'])"
   ]
  },
  {
   "cell_type": "code",
   "execution_count": 5,
   "id": "4f677efe-d36d-4508-8f43-c36d25feecd1",
   "metadata": {},
   "outputs": [],
   "source": [
    "q1 = df['SalePrice'].quantile(0.25)\n",
    "q3 = df['SalePrice'].quantile(0.75)\n",
    "IQR = q3 - q1"
   ]
  },
  {
   "cell_type": "code",
   "execution_count": 6,
   "id": "5a610c8c-87f3-43b6-a570-9036da3abf9f",
   "metadata": {},
   "outputs": [],
   "source": [
    "new_bound = q3 + 3*IQR"
   ]
  },
  {
   "cell_type": "code",
   "execution_count": 7,
   "id": "f4744e6a-2d65-430f-8f58-8ca27b7bd002",
   "metadata": {},
   "outputs": [],
   "source": [
    "df.drop(df[df.SalePrice > new_bound].index, axis = 0, inplace = True)"
   ]
  },
  {
   "cell_type": "code",
   "execution_count": 8,
   "id": "5e769520-7666-4c68-8f06-f8369f33c6f6",
   "metadata": {},
   "outputs": [
    {
     "data": {
      "text/plain": [
       "(1448, 81)"
      ]
     },
     "execution_count": 8,
     "metadata": {},
     "output_type": "execute_result"
    }
   ],
   "source": [
    "df.shape"
   ]
  },
  {
   "cell_type": "code",
   "execution_count": 9,
   "id": "3f546766-eea2-48c1-a443-dfad8567231e",
   "metadata": {},
   "outputs": [
    {
     "data": {
      "text/plain": [
       "<AxesSubplot:xlabel='SalePrice'>"
      ]
     },
     "execution_count": 9,
     "metadata": {},
     "output_type": "execute_result"
    },
    {
     "data": {
      "image/png": "[encoded data removed]",
      "text/plain": [
       "<Figure size 432x288 with 1 Axes>"
      ]
     },
     "metadata": {
      "needs_background": "light"
     },
     "output_type": "display_data"
    }
   ],
   "source": [
    "sns.boxplot(x = df['SalePrice'])"
   ]
  },
  {
   "cell_type": "markdown",
   "id": "0706398f-ce44-4c0f-a80d-1f3fc250df0f",
   "metadata": {},
   "source": [
    "## Removing columns"
   ]
  },
  {
   "cell_type": "code",
   "execution_count": 11,
   "id": "7e39e6c2-3bed-4599-99f8-47e51b2ab200",
   "metadata": {},
   "outputs": [],
   "source": [
    "to_remove = ['GarageCars','1stFlrSF','GrLivArea','FullBath']\n",
    "\n",
    "null_val = df.isnull().sum()\n",
    "null_val = null_val[null_val.values > df.shape[0]*0.2]\n",
    "to_remove = np.append(to_remove, null_val.index.to_list())\n",
    "\n",
    "num_df = df.select_dtypes(include = [np.number])\n",
    "corr_mat = num_df.corr()\n",
    "corr_mat = corr_mat.SalePrice.sort_values(ascending = False)\n",
    "poor_corr = corr_mat[(corr_mat.values < 0.35) & (corr_mat.values > -0.03)]\n",
    "to_remove = np.append(to_remove, poor_corr.index.to_list())"
   ]
  },
  {
   "cell_type": "code",
   "execution_count": 13,
   "id": "6078ea1c-1f43-42b3-9605-43779ee59d6b",
   "metadata": {},
   "outputs": [
    {
     "data": {
      "text/plain": [
       "array(['GarageCars', '1stFlrSF', 'GrLivArea', 'FullBath', 'Alley',\n",
       "       'FireplaceQu', 'PoolQC', 'Fence', 'MiscFeature', 'LotFrontage',\n",
       "       'WoodDeckSF', 'OpenPorchSF', '2ndFlrSF', 'HalfBath', 'LotArea',\n",
       "       'BsmtFullBath', 'BsmtUnfSF', 'BedroomAbvGr', 'ScreenPorch',\n",
       "       'MoSold', '3SsnPorch', 'PoolArea', 'BsmtFinSF2', 'MiscVal'],\n",
       "      dtype='<U12')"
      ]
     },
     "execution_count": 13,
     "metadata": {},
     "output_type": "execute_result"
    }
   ],
   "source": [
    "to_remove"
   ]
  },
  {
   "cell_type": "code",
   "execution_count": 248,
   "id": "e345ac10-7de4-43bf-bc00-8131795a05e1",
   "metadata": {},
   "outputs": [
    {
     "data": {
      "text/html": [
       "<div>\n",
       "<style scoped>\n",
       "    .dataframe tbody tr th:only-of-type {\n",
       "        vertical-align: middle;\n",
       "    }\n",
       "\n",
       "    .dataframe tbody tr th {\n",
       "        vertical-align: top;\n",
       "    }\n",
       "\n",
       "    .dataframe thead th {\n",
       "        text-align: right;\n",
       "    }\n",
       "</style>\n",
       "<table border=\"1\" class=\"dataframe\">\n",
       "  <thead>\n",
       "    <tr style=\"text-align: right;\">\n",
       "      <th></th>\n",
       "      <th>Id</th>\n",
       "      <th>MSSubClass</th>\n",
       "      <th>LotFrontage</th>\n",
       "      <th>LotArea</th>\n",
       "      <th>OverallQual</th>\n",
       "      <th>OverallCond</th>\n",
       "      <th>YearBuilt</th>\n",
       "      <th>YearRemodAdd</th>\n",
       "      <th>MasVnrArea</th>\n",
       "      <th>BsmtFinSF1</th>\n",
       "      <th>...</th>\n",
       "      <th>WoodDeckSF</th>\n",
       "      <th>OpenPorchSF</th>\n",
       "      <th>EnclosedPorch</th>\n",
       "      <th>3SsnPorch</th>\n",
       "      <th>ScreenPorch</th>\n",
       "      <th>PoolArea</th>\n",
       "      <th>MiscVal</th>\n",
       "      <th>MoSold</th>\n",
       "      <th>YrSold</th>\n",
       "      <th>SalePrice</th>\n",
       "    </tr>\n",
       "  </thead>\n",
       "  <tbody>\n",
       "    <tr>\n",
       "      <th>0</th>\n",
       "      <td>1</td>\n",
       "      <td>60</td>\n",
       "      <td>65.0</td>\n",
       "      <td>8450</td>\n",
       "      <td>7</td>\n",
       "      <td>5</td>\n",
       "      <td>2003</td>\n",
       "      <td>2003</td>\n",
       "      <td>196.0</td>\n",
       "      <td>706</td>\n",
       "      <td>...</td>\n",
       "      <td>0</td>\n",
       "      <td>61</td>\n",
       "      <td>0</td>\n",
       "      <td>0</td>\n",
       "      <td>0</td>\n",
       "      <td>0</td>\n",
       "      <td>0</td>\n",
       "      <td>2</td>\n",
       "      <td>2008</td>\n",
       "      <td>208500</td>\n",
       "    </tr>\n",
       "    <tr>\n",
       "      <th>1</th>\n",
       "      <td>2</td>\n",
       "      <td>20</td>\n",
       "      <td>80.0</td>\n",
       "      <td>9600</td>\n",
       "      <td>6</td>\n",
       "      <td>8</td>\n",
       "      <td>1976</td>\n",
       "      <td>1976</td>\n",
       "      <td>0.0</td>\n",
       "      <td>978</td>\n",
       "      <td>...</td>\n",
       "      <td>298</td>\n",
       "      <td>0</td>\n",
       "      <td>0</td>\n",
       "      <td>0</td>\n",
       "      <td>0</td>\n",
       "      <td>0</td>\n",
       "      <td>0</td>\n",
       "      <td>5</td>\n",
       "      <td>2007</td>\n",
       "      <td>181500</td>\n",
       "    </tr>\n",
       "    <tr>\n",
       "      <th>2</th>\n",
       "      <td>3</td>\n",
       "      <td>60</td>\n",
       "      <td>68.0</td>\n",
       "      <td>11250</td>\n",
       "      <td>7</td>\n",
       "      <td>5</td>\n",
       "      <td>2001</td>\n",
       "      <td>2002</td>\n",
       "      <td>162.0</td>\n",
       "      <td>486</td>\n",
       "      <td>...</td>\n",
       "      <td>0</td>\n",
       "      <td>42</td>\n",
       "      <td>0</td>\n",
       "      <td>0</td>\n",
       "      <td>0</td>\n",
       "      <td>0</td>\n",
       "      <td>0</td>\n",
       "      <td>9</td>\n",
       "      <td>2008</td>\n",
       "      <td>223500</td>\n",
       "    </tr>\n",
       "    <tr>\n",
       "      <th>3</th>\n",
       "      <td>4</td>\n",
       "      <td>70</td>\n",
       "      <td>60.0</td>\n",
       "      <td>9550</td>\n",
       "      <td>7</td>\n",
       "      <td>5</td>\n",
       "      <td>1915</td>\n",
       "      <td>1970</td>\n",
       "      <td>0.0</td>\n",
       "      <td>216</td>\n",
       "      <td>...</td>\n",
       "      <td>0</td>\n",
       "      <td>35</td>\n",
       "      <td>272</td>\n",
       "      <td>0</td>\n",
       "      <td>0</td>\n",
       "      <td>0</td>\n",
       "      <td>0</td>\n",
       "      <td>2</td>\n",
       "      <td>2006</td>\n",
       "      <td>140000</td>\n",
       "    </tr>\n",
       "    <tr>\n",
       "      <th>4</th>\n",
       "      <td>5</td>\n",
       "      <td>60</td>\n",
       "      <td>84.0</td>\n",
       "      <td>14260</td>\n",
       "      <td>8</td>\n",
       "      <td>5</td>\n",
       "      <td>2000</td>\n",
       "      <td>2000</td>\n",
       "      <td>350.0</td>\n",
       "      <td>655</td>\n",
       "      <td>...</td>\n",
       "      <td>192</td>\n",
       "      <td>84</td>\n",
       "      <td>0</td>\n",
       "      <td>0</td>\n",
       "      <td>0</td>\n",
       "      <td>0</td>\n",
       "      <td>0</td>\n",
       "      <td>12</td>\n",
       "      <td>2008</td>\n",
       "      <td>250000</td>\n",
       "    </tr>\n",
       "  </tbody>\n",
       "</table>\n",
       "<p>5 rows × 38 columns</p>\n",
       "</div>"
      ],
      "text/plain": [
       "   Id  MSSubClass  LotFrontage  LotArea  OverallQual  OverallCond  YearBuilt  \\\n",
       "0   1          60         65.0     8450            7            5       2003   \n",
       "1   2          20         80.0     9600            6            8       1976   \n",
       "2   3          60         68.0    11250            7            5       2001   \n",
       "3   4          70         60.0     9550            7            5       1915   \n",
       "4   5          60         84.0    14260            8            5       2000   \n",
       "\n",
       "   YearRemodAdd  MasVnrArea  BsmtFinSF1  ...  WoodDeckSF  OpenPorchSF  \\\n",
       "0          2003       196.0         706  ...           0           61   \n",
       "1          1976         0.0         978  ...         298            0   \n",
       "2          2002       162.0         486  ...           0           42   \n",
       "3          1970         0.0         216  ...           0           35   \n",
       "4          2000       350.0         655  ...         192           84   \n",
       "\n",
       "   EnclosedPorch  3SsnPorch  ScreenPorch  PoolArea  MiscVal  MoSold  YrSold  \\\n",
       "0              0          0            0         0        0       2    2008   \n",
       "1              0          0            0         0        0       5    2007   \n",
       "2              0          0            0         0        0       9    2008   \n",
       "3            272          0            0         0        0       2    2006   \n",
       "4              0          0            0         0        0      12    2008   \n",
       "\n",
       "   SalePrice  \n",
       "0     208500  \n",
       "1     181500  \n",
       "2     223500  \n",
       "3     140000  \n",
       "4     250000  \n",
       "\n",
       "[5 rows x 38 columns]"
      ]
     },
     "execution_count": 248,
     "metadata": {},
     "output_type": "execute_result"
    }
   ],
   "source": [
    "numeric_features = df.select_dtypes(include=[np.number])\n",
    "numeric_features.head()"
   ]
  },
  {
   "cell_type": "code",
   "execution_count": 249,
   "id": "eb591526-fa8b-46e7-aa45-1a3cb0e2315f",
   "metadata": {},
   "outputs": [],
   "source": [
    "null_val = df.isnull().sum()\n",
    "null_val = null_val[null_val > 0.2*1148]\n",
    "null_val.sort_values(inplace = True)"
   ]
  },
  {
   "cell_type": "code",
   "execution_count": 250,
   "id": "5264f440-ac33-48ce-8807-947724e6f162",
   "metadata": {},
   "outputs": [
    {
     "data": {
      "text/plain": [
       "LotFrontage     258\n",
       "FireplaceQu     690\n",
       "Fence          1169\n",
       "Alley          1357\n",
       "MiscFeature    1394\n",
       "PoolQC         1442\n",
       "dtype: int64"
      ]
     },
     "execution_count": 250,
     "metadata": {},
     "output_type": "execute_result"
    }
   ],
   "source": [
    "null_val"
   ]
  },
  {
   "cell_type": "code",
   "execution_count": 251,
   "id": "19d2c24c-7228-4506-86bd-a58245ab88a1",
   "metadata": {},
   "outputs": [
    {
     "data": {
      "text/plain": [
       "SalePrice        1.000000\n",
       "OverallQual      0.800000\n",
       "GrLivArea        0.679068\n",
       "GarageCars       0.653663\n",
       "GarageArea       0.632507\n",
       "TotalBsmtSF      0.594397\n",
       "1stFlrSF         0.584448\n",
       "YearBuilt        0.556740\n",
       "FullBath         0.552082\n",
       "YearRemodAdd     0.534765\n",
       "GarageYrBlt      0.508040\n",
       "TotRmsAbvGrd     0.502738\n",
       "Fireplaces       0.461581\n",
       "MasVnrArea       0.433622\n",
       "BsmtFinSF1       0.364725\n",
       "LotFrontage      0.336667\n",
       "WoodDeckSF       0.334476\n",
       "OpenPorchSF      0.325409\n",
       "2ndFlrSF         0.287455\n",
       "HalfBath         0.278858\n",
       "LotArea          0.252031\n",
       "BsmtFullBath     0.242846\n",
       "BsmtUnfSF        0.211252\n",
       "BedroomAbvGr     0.164610\n",
       "ScreenPorch      0.081308\n",
       "MoSold           0.079185\n",
       "3SsnPorch        0.055720\n",
       "PoolArea         0.033403\n",
       "BsmtFinSF2      -0.011770\n",
       "MiscVal         -0.019849\n",
       "BsmtHalfBath    -0.031552\n",
       "YrSold          -0.034292\n",
       "Id              -0.034666\n",
       "LowQualFinSF    -0.060257\n",
       "OverallCond     -0.079676\n",
       "MSSubClass      -0.086540\n",
       "EnclosedPorch   -0.128520\n",
       "KitchenAbvGr    -0.143610\n",
       "Name: SalePrice, dtype: float64"
      ]
     },
     "execution_count": 251,
     "metadata": {},
     "output_type": "execute_result"
    }
   ],
   "source": [
    "numeric_features.corr().SalePrice.sort_values(ascending = False)"
   ]
  },
  {
   "cell_type": "code",
   "execution_count": 252,
   "id": "b517906e-0c43-48f3-8d2e-40273e3bdb2d",
   "metadata": {},
   "outputs": [],
   "source": [
    "arr = []"
   ]
  },
  {
   "cell_type": "code",
   "execution_count": 253,
   "id": "1978043a-de96-4275-a734-8122325077bf",
   "metadata": {},
   "outputs": [],
   "source": [
    "corr_m = numeric_features.corr()\n",
    "corr_m = corr_m['SalePrice'].sort_values(ascending = False)\n",
    "poor_cor = corr_m[(corr_m.values < 0.35) & (corr_m.values > -0.03)]\n",
    "arr = np.append(arr, poor_cor.index.to_list())"
   ]
  },
  {
   "cell_type": "code",
   "execution_count": 254,
   "id": "ff4d1721-2689-4a32-847b-a8f82f74c90b",
   "metadata": {},
   "outputs": [
    {
     "data": {
      "text/plain": [
       "array(['LotFrontage', 'WoodDeckSF', 'OpenPorchSF', '2ndFlrSF', 'HalfBath',\n",
       "       'LotArea', 'BsmtFullBath', 'BsmtUnfSF', 'BedroomAbvGr',\n",
       "       'ScreenPorch', 'MoSold', '3SsnPorch', 'PoolArea', 'BsmtFinSF2',\n",
       "       'MiscVal'], dtype='<U32')"
      ]
     },
     "execution_count": 254,
     "metadata": {},
     "output_type": "execute_result"
    }
   ],
   "source": [
    "arr"
   ]
  },
  {
   "cell_type": "code",
   "execution_count": 255,
   "id": "71ae7752-e7ac-4605-9426-f8263a01222f",
   "metadata": {},
   "outputs": [],
   "source": [
    "to_remove = ['GarageCars','1stFlrSF','GrLivArea','FullBath','LotFrontage', 'WoodDeckSF', 'OpenPorchSF', '2ndFlrSF', 'HalfBath',\n",
    "       'LotArea', 'BsmtFullBath', 'BsmtUnfSF', 'BedroomAbvGr',\n",
    "       'ScreenPorch', 'MoSold', '3SsnPorch', 'PoolArea', 'BsmtFinSF2',\n",
    "       'MiscVal', 'BsmtHalfBath', 'YrSold', 'Id', 'LowQualFinSF',\n",
    "       'OverallCond', 'MSSubClass', 'EnclosedPorch', 'KitchenAbvGr','LotFrontage', 'FireplaceQu', 'Fence', 'Alley', 'MiscFeature',\n",
    "       'PoolQC']"
   ]
  },
  {
   "cell_type": "code",
   "execution_count": 256,
   "id": "cc88b69d-477b-45e7-b5c2-8c0cb7a3a9a2",
   "metadata": {},
   "outputs": [],
   "source": [
    "df.drop(to_remove,axis = 1,inplace = True)"
   ]
  },
  {
   "cell_type": "code",
   "execution_count": 257,
   "id": "d59fbfdf-1ac5-4f96-af41-611a4c1388ed",
   "metadata": {},
   "outputs": [
    {
     "data": {
      "text/html": [
       "<div>\n",
       "<style scoped>\n",
       "    .dataframe tbody tr th:only-of-type {\n",
       "        vertical-align: middle;\n",
       "    }\n",
       "\n",
       "    .dataframe tbody tr th {\n",
       "        vertical-align: top;\n",
       "    }\n",
       "\n",
       "    .dataframe thead th {\n",
       "        text-align: right;\n",
       "    }\n",
       "</style>\n",
       "<table border=\"1\" class=\"dataframe\">\n",
       "  <thead>\n",
       "    <tr style=\"text-align: right;\">\n",
       "      <th></th>\n",
       "      <th>MSZoning</th>\n",
       "      <th>Street</th>\n",
       "      <th>LotShape</th>\n",
       "      <th>LandContour</th>\n",
       "      <th>Utilities</th>\n",
       "      <th>LotConfig</th>\n",
       "      <th>LandSlope</th>\n",
       "      <th>Neighborhood</th>\n",
       "      <th>Condition1</th>\n",
       "      <th>Condition2</th>\n",
       "      <th>...</th>\n",
       "      <th>GarageType</th>\n",
       "      <th>GarageYrBlt</th>\n",
       "      <th>GarageFinish</th>\n",
       "      <th>GarageArea</th>\n",
       "      <th>GarageQual</th>\n",
       "      <th>GarageCond</th>\n",
       "      <th>PavedDrive</th>\n",
       "      <th>SaleType</th>\n",
       "      <th>SaleCondition</th>\n",
       "      <th>SalePrice</th>\n",
       "    </tr>\n",
       "  </thead>\n",
       "  <tbody>\n",
       "    <tr>\n",
       "      <th>0</th>\n",
       "      <td>RL</td>\n",
       "      <td>Pave</td>\n",
       "      <td>Reg</td>\n",
       "      <td>Lvl</td>\n",
       "      <td>AllPub</td>\n",
       "      <td>Inside</td>\n",
       "      <td>Gtl</td>\n",
       "      <td>CollgCr</td>\n",
       "      <td>Norm</td>\n",
       "      <td>Norm</td>\n",
       "      <td>...</td>\n",
       "      <td>Attchd</td>\n",
       "      <td>2003.0</td>\n",
       "      <td>RFn</td>\n",
       "      <td>548</td>\n",
       "      <td>TA</td>\n",
       "      <td>TA</td>\n",
       "      <td>Y</td>\n",
       "      <td>WD</td>\n",
       "      <td>Normal</td>\n",
       "      <td>208500</td>\n",
       "    </tr>\n",
       "    <tr>\n",
       "      <th>1</th>\n",
       "      <td>RL</td>\n",
       "      <td>Pave</td>\n",
       "      <td>Reg</td>\n",
       "      <td>Lvl</td>\n",
       "      <td>AllPub</td>\n",
       "      <td>FR2</td>\n",
       "      <td>Gtl</td>\n",
       "      <td>Veenker</td>\n",
       "      <td>Feedr</td>\n",
       "      <td>Norm</td>\n",
       "      <td>...</td>\n",
       "      <td>Attchd</td>\n",
       "      <td>1976.0</td>\n",
       "      <td>RFn</td>\n",
       "      <td>460</td>\n",
       "      <td>TA</td>\n",
       "      <td>TA</td>\n",
       "      <td>Y</td>\n",
       "      <td>WD</td>\n",
       "      <td>Normal</td>\n",
       "      <td>181500</td>\n",
       "    </tr>\n",
       "    <tr>\n",
       "      <th>2</th>\n",
       "      <td>RL</td>\n",
       "      <td>Pave</td>\n",
       "      <td>IR1</td>\n",
       "      <td>Lvl</td>\n",
       "      <td>AllPub</td>\n",
       "      <td>Inside</td>\n",
       "      <td>Gtl</td>\n",
       "      <td>CollgCr</td>\n",
       "      <td>Norm</td>\n",
       "      <td>Norm</td>\n",
       "      <td>...</td>\n",
       "      <td>Attchd</td>\n",
       "      <td>2001.0</td>\n",
       "      <td>RFn</td>\n",
       "      <td>608</td>\n",
       "      <td>TA</td>\n",
       "      <td>TA</td>\n",
       "      <td>Y</td>\n",
       "      <td>WD</td>\n",
       "      <td>Normal</td>\n",
       "      <td>223500</td>\n",
       "    </tr>\n",
       "    <tr>\n",
       "      <th>3</th>\n",
       "      <td>RL</td>\n",
       "      <td>Pave</td>\n",
       "      <td>IR1</td>\n",
       "      <td>Lvl</td>\n",
       "      <td>AllPub</td>\n",
       "      <td>Corner</td>\n",
       "      <td>Gtl</td>\n",
       "      <td>Crawfor</td>\n",
       "      <td>Norm</td>\n",
       "      <td>Norm</td>\n",
       "      <td>...</td>\n",
       "      <td>Detchd</td>\n",
       "      <td>1998.0</td>\n",
       "      <td>Unf</td>\n",
       "      <td>642</td>\n",
       "      <td>TA</td>\n",
       "      <td>TA</td>\n",
       "      <td>Y</td>\n",
       "      <td>WD</td>\n",
       "      <td>Abnorml</td>\n",
       "      <td>140000</td>\n",
       "    </tr>\n",
       "    <tr>\n",
       "      <th>4</th>\n",
       "      <td>RL</td>\n",
       "      <td>Pave</td>\n",
       "      <td>IR1</td>\n",
       "      <td>Lvl</td>\n",
       "      <td>AllPub</td>\n",
       "      <td>FR2</td>\n",
       "      <td>Gtl</td>\n",
       "      <td>NoRidge</td>\n",
       "      <td>Norm</td>\n",
       "      <td>Norm</td>\n",
       "      <td>...</td>\n",
       "      <td>Attchd</td>\n",
       "      <td>2000.0</td>\n",
       "      <td>RFn</td>\n",
       "      <td>836</td>\n",
       "      <td>TA</td>\n",
       "      <td>TA</td>\n",
       "      <td>Y</td>\n",
       "      <td>WD</td>\n",
       "      <td>Normal</td>\n",
       "      <td>250000</td>\n",
       "    </tr>\n",
       "  </tbody>\n",
       "</table>\n",
       "<p>5 rows × 49 columns</p>\n",
       "</div>"
      ],
      "text/plain": [
       "  MSZoning Street LotShape LandContour Utilities LotConfig LandSlope  \\\n",
       "0       RL   Pave      Reg         Lvl    AllPub    Inside       Gtl   \n",
       "1       RL   Pave      Reg         Lvl    AllPub       FR2       Gtl   \n",
       "2       RL   Pave      IR1         Lvl    AllPub    Inside       Gtl   \n",
       "3       RL   Pave      IR1         Lvl    AllPub    Corner       Gtl   \n",
       "4       RL   Pave      IR1         Lvl    AllPub       FR2       Gtl   \n",
       "\n",
       "  Neighborhood Condition1 Condition2  ... GarageType GarageYrBlt  \\\n",
       "0      CollgCr       Norm       Norm  ...     Attchd      2003.0   \n",
       "1      Veenker      Feedr       Norm  ...     Attchd      1976.0   \n",
       "2      CollgCr       Norm       Norm  ...     Attchd      2001.0   \n",
       "3      Crawfor       Norm       Norm  ...     Detchd      1998.0   \n",
       "4      NoRidge       Norm       Norm  ...     Attchd      2000.0   \n",
       "\n",
       "   GarageFinish  GarageArea  GarageQual GarageCond PavedDrive SaleType  \\\n",
       "0           RFn         548          TA         TA          Y       WD   \n",
       "1           RFn         460          TA         TA          Y       WD   \n",
       "2           RFn         608          TA         TA          Y       WD   \n",
       "3           Unf         642          TA         TA          Y       WD   \n",
       "4           RFn         836          TA         TA          Y       WD   \n",
       "\n",
       "  SaleCondition SalePrice  \n",
       "0        Normal    208500  \n",
       "1        Normal    181500  \n",
       "2        Normal    223500  \n",
       "3       Abnorml    140000  \n",
       "4        Normal    250000  \n",
       "\n",
       "[5 rows x 49 columns]"
      ]
     },
     "execution_count": 257,
     "metadata": {},
     "output_type": "execute_result"
    }
   ],
   "source": [
    "df.head()"
   ]
  },
  {
   "cell_type": "code",
   "execution_count": 258,
   "id": "11b642ac-97c8-46ea-a27a-bd202ea80c12",
   "metadata": {},
   "outputs": [],
   "source": [
    "numeric_col = df.select_dtypes(include = [np.number]).columns.to_list()\n",
    "num_col_x = numeric_col[:-1]\n",
    "num_col_y = numeric_col[-1]\n",
    "scaler_x = StandardScaler()\n",
    "scaled_x_df = scaler_x.fit_transform(df[num_col_x])\n",
    "scaler_y = StandardScaler()\n",
    "scaled_y_df = scaler_y.fit_transform(df[num_col_y].values.reshape(-1, 1))\n",
    "\n",
    "file1 = open('../models/data-cleaning-models/scaler_x.pkl', 'wb')\n",
    "pickle.dump(cat_encoder, file1)\n",
    "\n",
    "file2 = open('../models/data-cleaning-models/scaler_y.pkl', 'wb')\n",
    "pickle.dump(cat_encoder, file2)\n",
    "\n",
    "df[num_col_x],df[num_col_y] = scaled_x_df, scaled_y_df"
   ]
  },
  {
   "cell_type": "code",
   "execution_count": 259,
   "id": "764f6fc2-6130-4116-9397-15fc17832c59",
   "metadata": {},
   "outputs": [
    {
     "data": {
      "text/html": [
       "<div>\n",
       "<style scoped>\n",
       "    .dataframe tbody tr th:only-of-type {\n",
       "        vertical-align: middle;\n",
       "    }\n",
       "\n",
       "    .dataframe tbody tr th {\n",
       "        vertical-align: top;\n",
       "    }\n",
       "\n",
       "    .dataframe thead th {\n",
       "        text-align: right;\n",
       "    }\n",
       "</style>\n",
       "<table border=\"1\" class=\"dataframe\">\n",
       "  <thead>\n",
       "    <tr style=\"text-align: right;\">\n",
       "      <th></th>\n",
       "      <th>MSZoning</th>\n",
       "      <th>Street</th>\n",
       "      <th>LotShape</th>\n",
       "      <th>LandContour</th>\n",
       "      <th>Utilities</th>\n",
       "      <th>LotConfig</th>\n",
       "      <th>LandSlope</th>\n",
       "      <th>Neighborhood</th>\n",
       "      <th>Condition1</th>\n",
       "      <th>Condition2</th>\n",
       "      <th>...</th>\n",
       "      <th>GarageType</th>\n",
       "      <th>GarageYrBlt</th>\n",
       "      <th>GarageFinish</th>\n",
       "      <th>GarageArea</th>\n",
       "      <th>GarageQual</th>\n",
       "      <th>GarageCond</th>\n",
       "      <th>PavedDrive</th>\n",
       "      <th>SaleType</th>\n",
       "      <th>SaleCondition</th>\n",
       "      <th>SalePrice</th>\n",
       "    </tr>\n",
       "  </thead>\n",
       "  <tbody>\n",
       "    <tr>\n",
       "      <th>0</th>\n",
       "      <td>RL</td>\n",
       "      <td>Pave</td>\n",
       "      <td>Reg</td>\n",
       "      <td>Lvl</td>\n",
       "      <td>AllPub</td>\n",
       "      <td>Inside</td>\n",
       "      <td>Gtl</td>\n",
       "      <td>CollgCr</td>\n",
       "      <td>Norm</td>\n",
       "      <td>Norm</td>\n",
       "      <td>...</td>\n",
       "      <td>Attchd</td>\n",
       "      <td>1.001096</td>\n",
       "      <td>RFn</td>\n",
       "      <td>0.369164</td>\n",
       "      <td>TA</td>\n",
       "      <td>TA</td>\n",
       "      <td>Y</td>\n",
       "      <td>WD</td>\n",
       "      <td>Normal</td>\n",
       "      <td>0.436537</td>\n",
       "    </tr>\n",
       "    <tr>\n",
       "      <th>1</th>\n",
       "      <td>RL</td>\n",
       "      <td>Pave</td>\n",
       "      <td>Reg</td>\n",
       "      <td>Lvl</td>\n",
       "      <td>AllPub</td>\n",
       "      <td>FR2</td>\n",
       "      <td>Gtl</td>\n",
       "      <td>Veenker</td>\n",
       "      <td>Feedr</td>\n",
       "      <td>Norm</td>\n",
       "      <td>...</td>\n",
       "      <td>Attchd</td>\n",
       "      <td>-0.092989</td>\n",
       "      <td>RFn</td>\n",
       "      <td>-0.046740</td>\n",
       "      <td>TA</td>\n",
       "      <td>TA</td>\n",
       "      <td>Y</td>\n",
       "      <td>WD</td>\n",
       "      <td>Normal</td>\n",
       "      <td>0.054391</td>\n",
       "    </tr>\n",
       "    <tr>\n",
       "      <th>2</th>\n",
       "      <td>RL</td>\n",
       "      <td>Pave</td>\n",
       "      <td>IR1</td>\n",
       "      <td>Lvl</td>\n",
       "      <td>AllPub</td>\n",
       "      <td>Inside</td>\n",
       "      <td>Gtl</td>\n",
       "      <td>CollgCr</td>\n",
       "      <td>Norm</td>\n",
       "      <td>Norm</td>\n",
       "      <td>...</td>\n",
       "      <td>Attchd</td>\n",
       "      <td>0.920052</td>\n",
       "      <td>RFn</td>\n",
       "      <td>0.652735</td>\n",
       "      <td>TA</td>\n",
       "      <td>TA</td>\n",
       "      <td>Y</td>\n",
       "      <td>WD</td>\n",
       "      <td>Normal</td>\n",
       "      <td>0.648840</td>\n",
       "    </tr>\n",
       "    <tr>\n",
       "      <th>3</th>\n",
       "      <td>RL</td>\n",
       "      <td>Pave</td>\n",
       "      <td>IR1</td>\n",
       "      <td>Lvl</td>\n",
       "      <td>AllPub</td>\n",
       "      <td>Corner</td>\n",
       "      <td>Gtl</td>\n",
       "      <td>Crawfor</td>\n",
       "      <td>Norm</td>\n",
       "      <td>Norm</td>\n",
       "      <td>...</td>\n",
       "      <td>Detchd</td>\n",
       "      <td>0.798487</td>\n",
       "      <td>Unf</td>\n",
       "      <td>0.813425</td>\n",
       "      <td>TA</td>\n",
       "      <td>TA</td>\n",
       "      <td>Y</td>\n",
       "      <td>WD</td>\n",
       "      <td>Abnorml</td>\n",
       "      <td>-0.532981</td>\n",
       "    </tr>\n",
       "    <tr>\n",
       "      <th>4</th>\n",
       "      <td>RL</td>\n",
       "      <td>Pave</td>\n",
       "      <td>IR1</td>\n",
       "      <td>Lvl</td>\n",
       "      <td>AllPub</td>\n",
       "      <td>FR2</td>\n",
       "      <td>Gtl</td>\n",
       "      <td>NoRidge</td>\n",
       "      <td>Norm</td>\n",
       "      <td>Norm</td>\n",
       "      <td>...</td>\n",
       "      <td>Attchd</td>\n",
       "      <td>0.879531</td>\n",
       "      <td>RFn</td>\n",
       "      <td>1.730303</td>\n",
       "      <td>TA</td>\n",
       "      <td>TA</td>\n",
       "      <td>Y</td>\n",
       "      <td>WD</td>\n",
       "      <td>Normal</td>\n",
       "      <td>1.023909</td>\n",
       "    </tr>\n",
       "  </tbody>\n",
       "</table>\n",
       "<p>5 rows × 49 columns</p>\n",
       "</div>"
      ],
      "text/plain": [
       "  MSZoning Street LotShape LandContour Utilities LotConfig LandSlope  \\\n",
       "0       RL   Pave      Reg         Lvl    AllPub    Inside       Gtl   \n",
       "1       RL   Pave      Reg         Lvl    AllPub       FR2       Gtl   \n",
       "2       RL   Pave      IR1         Lvl    AllPub    Inside       Gtl   \n",
       "3       RL   Pave      IR1         Lvl    AllPub    Corner       Gtl   \n",
       "4       RL   Pave      IR1         Lvl    AllPub       FR2       Gtl   \n",
       "\n",
       "  Neighborhood Condition1 Condition2  ... GarageType GarageYrBlt  \\\n",
       "0      CollgCr       Norm       Norm  ...     Attchd    1.001096   \n",
       "1      Veenker      Feedr       Norm  ...     Attchd   -0.092989   \n",
       "2      CollgCr       Norm       Norm  ...     Attchd    0.920052   \n",
       "3      Crawfor       Norm       Norm  ...     Detchd    0.798487   \n",
       "4      NoRidge       Norm       Norm  ...     Attchd    0.879531   \n",
       "\n",
       "   GarageFinish  GarageArea  GarageQual GarageCond PavedDrive SaleType  \\\n",
       "0           RFn    0.369164          TA         TA          Y       WD   \n",
       "1           RFn   -0.046740          TA         TA          Y       WD   \n",
       "2           RFn    0.652735          TA         TA          Y       WD   \n",
       "3           Unf    0.813425          TA         TA          Y       WD   \n",
       "4           RFn    1.730303          TA         TA          Y       WD   \n",
       "\n",
       "  SaleCondition SalePrice  \n",
       "0        Normal  0.436537  \n",
       "1        Normal  0.054391  \n",
       "2        Normal  0.648840  \n",
       "3       Abnorml -0.532981  \n",
       "4        Normal  1.023909  \n",
       "\n",
       "[5 rows x 49 columns]"
      ]
     },
     "execution_count": 259,
     "metadata": {},
     "output_type": "execute_result"
    }
   ],
   "source": [
    "df.head()"
   ]
  },
  {
   "cell_type": "code",
   "execution_count": 260,
   "id": "7fba9396-3616-410d-be69-aeaac3d6015b",
   "metadata": {},
   "outputs": [],
   "source": [
    "df.dropna(inplace = True)"
   ]
  },
  {
   "cell_type": "code",
   "execution_count": 261,
   "id": "7f5bdccc-0d43-4e58-a34d-fccbe6a9b9c9",
   "metadata": {},
   "outputs": [
    {
     "data": {
      "text/plain": [
       "(1326, 49)"
      ]
     },
     "execution_count": 261,
     "metadata": {},
     "output_type": "execute_result"
    }
   ],
   "source": [
    "df.shape"
   ]
  },
  {
   "cell_type": "markdown",
   "id": "89a0b512-8791-420d-83ae-e67794242b02",
   "metadata": {},
   "source": [
    "## Categorical features encoding"
   ]
  },
  {
   "cell_type": "code",
   "execution_count": 262,
   "id": "c10f9ba2-2899-425e-bf8c-bd3e3ee86703",
   "metadata": {},
   "outputs": [],
   "source": [
    "from sklearn.preprocessing import LabelEncoder"
   ]
  },
  {
   "cell_type": "code",
   "execution_count": null,
   "id": "bacf1f9a-59c7-4a63-95bd-39a48d5efc6e",
   "metadata": {},
   "outputs": [],
   "source": [
    "cat_columns = df.select_dtypes(include = ['object']).columns.to_list()\n",
    "cat_encoder = {}\n",
    "for i in cat_columns:\n",
    "    en = LabelEncoder()\n",
    "    df[i] = en.fit_transform(df[i])\n",
    "    cat_encoder[i] = en\n",
    "\n",
    "file = open('../models/data-cleaning-models/cat_encoder.pkl', 'wb')\n",
    "pickle.dump(cat_encoder, file)"
   ]
  },
  {
   "cell_type": "code",
   "execution_count": 263,
   "id": "9c1cd35e-4f3e-4bf2-b957-1a1a36aa4051",
   "metadata": {},
   "outputs": [],
   "source": [
    "cat_col = df.select_dtypes(include = ['object']).columns.to_list()"
   ]
  },
  {
   "cell_type": "code",
   "execution_count": 264,
   "id": "9db7c95a-f542-49fd-bfbb-49d499eaa708",
   "metadata": {},
   "outputs": [
    {
     "data": {
      "text/plain": [
       "MSZoning         object\n",
       "Street           object\n",
       "LotShape         object\n",
       "LandContour      object\n",
       "Utilities        object\n",
       "LotConfig        object\n",
       "LandSlope        object\n",
       "Neighborhood     object\n",
       "Condition1       object\n",
       "Condition2       object\n",
       "BldgType         object\n",
       "HouseStyle       object\n",
       "RoofStyle        object\n",
       "RoofMatl         object\n",
       "Exterior1st      object\n",
       "Exterior2nd      object\n",
       "MasVnrType       object\n",
       "ExterQual        object\n",
       "ExterCond        object\n",
       "Foundation       object\n",
       "BsmtQual         object\n",
       "BsmtCond         object\n",
       "BsmtExposure     object\n",
       "BsmtFinType1     object\n",
       "BsmtFinType2     object\n",
       "Heating          object\n",
       "HeatingQC        object\n",
       "CentralAir       object\n",
       "Electrical       object\n",
       "KitchenQual      object\n",
       "Functional       object\n",
       "GarageType       object\n",
       "GarageFinish     object\n",
       "GarageQual       object\n",
       "GarageCond       object\n",
       "PavedDrive       object\n",
       "SaleType         object\n",
       "SaleCondition    object\n",
       "dtype: object"
      ]
     },
     "execution_count": 264,
     "metadata": {},
     "output_type": "execute_result"
    }
   ],
   "source": [
    "df[cat_col].dtypes"
   ]
  },
  {
   "cell_type": "code",
   "execution_count": 265,
   "id": "1406afc8-c051-4f25-b2cb-b36425f6d79b",
   "metadata": {},
   "outputs": [],
   "source": [
    "cat_encoder = { }\n",
    "\n",
    "for i in cat_col:\n",
    "    encoder = LabelEncoder()\n",
    "    df[i]= encoder.fit_transform(df[i])\n",
    "    cat_encoder[i]= encoder"
   ]
  },
  {
   "cell_type": "code",
   "execution_count": 266,
   "id": "662147a4-bef2-4bb1-b760-a98517c187b8",
   "metadata": {},
   "outputs": [
    {
     "data": {
      "text/plain": [
       "{'MSZoning': LabelEncoder(),\n",
       " 'Street': LabelEncoder(),\n",
       " 'LotShape': LabelEncoder(),\n",
       " 'LandContour': LabelEncoder(),\n",
       " 'Utilities': LabelEncoder(),\n",
       " 'LotConfig': LabelEncoder(),\n",
       " 'LandSlope': LabelEncoder(),\n",
       " 'Neighborhood': LabelEncoder(),\n",
       " 'Condition1': LabelEncoder(),\n",
       " 'Condition2': LabelEncoder(),\n",
       " 'BldgType': LabelEncoder(),\n",
       " 'HouseStyle': LabelEncoder(),\n",
       " 'RoofStyle': LabelEncoder(),\n",
       " 'RoofMatl': LabelEncoder(),\n",
       " 'Exterior1st': LabelEncoder(),\n",
       " 'Exterior2nd': LabelEncoder(),\n",
       " 'MasVnrType': LabelEncoder(),\n",
       " 'ExterQual': LabelEncoder(),\n",
       " 'ExterCond': LabelEncoder(),\n",
       " 'Foundation': LabelEncoder(),\n",
       " 'BsmtQual': LabelEncoder(),\n",
       " 'BsmtCond': LabelEncoder(),\n",
       " 'BsmtExposure': LabelEncoder(),\n",
       " 'BsmtFinType1': LabelEncoder(),\n",
       " 'BsmtFinType2': LabelEncoder(),\n",
       " 'Heating': LabelEncoder(),\n",
       " 'HeatingQC': LabelEncoder(),\n",
       " 'CentralAir': LabelEncoder(),\n",
       " 'Electrical': LabelEncoder(),\n",
       " 'KitchenQual': LabelEncoder(),\n",
       " 'Functional': LabelEncoder(),\n",
       " 'GarageType': LabelEncoder(),\n",
       " 'GarageFinish': LabelEncoder(),\n",
       " 'GarageQual': LabelEncoder(),\n",
       " 'GarageCond': LabelEncoder(),\n",
       " 'PavedDrive': LabelEncoder(),\n",
       " 'SaleType': LabelEncoder(),\n",
       " 'SaleCondition': LabelEncoder()}"
      ]
     },
     "execution_count": 266,
     "metadata": {},
     "output_type": "execute_result"
    }
   ],
   "source": [
    "cat_encoder"
   ]
  },
  {
   "cell_type": "code",
   "execution_count": 267,
   "id": "a3fbc9bb-0c14-47c2-a98b-608c783fab06",
   "metadata": {},
   "outputs": [],
   "source": [
    "df.to_csv(\"../data/processed/clean_train_data.csv\", index = False)"
   ]
  },
  {
   "cell_type": "code",
   "execution_count": 268,
   "id": "30def145-e35a-4fa1-a8c9-612bb0e7af43",
   "metadata": {},
   "outputs": [],
   "source": [
    "import pickle"
   ]
  },
  {
   "cell_type": "code",
   "execution_count": 269,
   "id": "a030155c-d7be-49d4-88cb-f23b82a60af8",
   "metadata": {},
   "outputs": [],
   "source": [
    "file = open('../models/data-cleaning-models/cat_encoder.pkl', 'wb')\n",
    "pickle.dump(cat_encoder, file)"
   ]
  },
  {
   "cell_type": "code",
   "execution_count": 282,
   "id": "d2da9fbf-ec7e-4999-80e8-b4c52d412a1d",
   "metadata": {},
   "outputs": [],
   "source": [
    "file1 = open('../models/data-cleaning-models/scaler_x.pkl', 'wb')\n",
    "pickle.dump(scaler_x, file1)\n",
    "\n",
    "file2 = open('../models/data-cleaning-models/scaler_y.pkl', 'wb')\n",
    "pickle.dump(scaler_y, file2)"
   ]
  },
  {
   "cell_type": "markdown",
   "id": "c87b82ad-b278-48f7-a560-b11b05b8cd0c",
   "metadata": {},
   "source": [
    "## Cleaning Test dataset"
   ]
  },
  {
   "cell_type": "code",
   "execution_count": 271,
   "id": "f7ee98d9-b0a8-407c-bb9a-f628ac795b2a",
   "metadata": {},
   "outputs": [
    {
     "name": "stdout",
     "output_type": "stream",
     "text": [
      "The data is read.\n"
     ]
    }
   ],
   "source": [
    "df_test = pd.read_csv('../data/raw/test.csv')\n",
    "print(\"The data is read.\")"
   ]
  },
  {
   "cell_type": "code",
   "execution_count": 272,
   "id": "c40a2952-02de-4196-9512-761fba264eee",
   "metadata": {},
   "outputs": [],
   "source": [
    "df_test.drop(to_remove, axis = 1, inplace = True)"
   ]
  },
  {
   "cell_type": "code",
   "execution_count": 273,
   "id": "b15831d7-cdcc-4ef2-a042-ba8d986cffaa",
   "metadata": {},
   "outputs": [
    {
     "data": {
      "text/plain": [
       "(1459, 48)"
      ]
     },
     "execution_count": 273,
     "metadata": {},
     "output_type": "execute_result"
    }
   ],
   "source": [
    "df_test.shape"
   ]
  },
  {
   "cell_type": "code",
   "execution_count": 274,
   "id": "6365a926-5c31-41d9-bd75-ce5e6b097293",
   "metadata": {},
   "outputs": [
    {
     "data": {
      "text/html": [
       "<div>\n",
       "<style scoped>\n",
       "    .dataframe tbody tr th:only-of-type {\n",
       "        vertical-align: middle;\n",
       "    }\n",
       "\n",
       "    .dataframe tbody tr th {\n",
       "        vertical-align: top;\n",
       "    }\n",
       "\n",
       "    .dataframe thead th {\n",
       "        text-align: right;\n",
       "    }\n",
       "</style>\n",
       "<table border=\"1\" class=\"dataframe\">\n",
       "  <thead>\n",
       "    <tr style=\"text-align: right;\">\n",
       "      <th></th>\n",
       "      <th>MSZoning</th>\n",
       "      <th>Street</th>\n",
       "      <th>LotShape</th>\n",
       "      <th>LandContour</th>\n",
       "      <th>Utilities</th>\n",
       "      <th>LotConfig</th>\n",
       "      <th>LandSlope</th>\n",
       "      <th>Neighborhood</th>\n",
       "      <th>Condition1</th>\n",
       "      <th>Condition2</th>\n",
       "      <th>...</th>\n",
       "      <th>Fireplaces</th>\n",
       "      <th>GarageType</th>\n",
       "      <th>GarageYrBlt</th>\n",
       "      <th>GarageFinish</th>\n",
       "      <th>GarageArea</th>\n",
       "      <th>GarageQual</th>\n",
       "      <th>GarageCond</th>\n",
       "      <th>PavedDrive</th>\n",
       "      <th>SaleType</th>\n",
       "      <th>SaleCondition</th>\n",
       "    </tr>\n",
       "  </thead>\n",
       "  <tbody>\n",
       "    <tr>\n",
       "      <th>0</th>\n",
       "      <td>RH</td>\n",
       "      <td>Pave</td>\n",
       "      <td>Reg</td>\n",
       "      <td>Lvl</td>\n",
       "      <td>AllPub</td>\n",
       "      <td>Inside</td>\n",
       "      <td>Gtl</td>\n",
       "      <td>NAmes</td>\n",
       "      <td>Feedr</td>\n",
       "      <td>Norm</td>\n",
       "      <td>...</td>\n",
       "      <td>0</td>\n",
       "      <td>Attchd</td>\n",
       "      <td>1961.0</td>\n",
       "      <td>Unf</td>\n",
       "      <td>730.0</td>\n",
       "      <td>TA</td>\n",
       "      <td>TA</td>\n",
       "      <td>Y</td>\n",
       "      <td>WD</td>\n",
       "      <td>Normal</td>\n",
       "    </tr>\n",
       "    <tr>\n",
       "      <th>1</th>\n",
       "      <td>RL</td>\n",
       "      <td>Pave</td>\n",
       "      <td>IR1</td>\n",
       "      <td>Lvl</td>\n",
       "      <td>AllPub</td>\n",
       "      <td>Corner</td>\n",
       "      <td>Gtl</td>\n",
       "      <td>NAmes</td>\n",
       "      <td>Norm</td>\n",
       "      <td>Norm</td>\n",
       "      <td>...</td>\n",
       "      <td>0</td>\n",
       "      <td>Attchd</td>\n",
       "      <td>1958.0</td>\n",
       "      <td>Unf</td>\n",
       "      <td>312.0</td>\n",
       "      <td>TA</td>\n",
       "      <td>TA</td>\n",
       "      <td>Y</td>\n",
       "      <td>WD</td>\n",
       "      <td>Normal</td>\n",
       "    </tr>\n",
       "    <tr>\n",
       "      <th>2</th>\n",
       "      <td>RL</td>\n",
       "      <td>Pave</td>\n",
       "      <td>IR1</td>\n",
       "      <td>Lvl</td>\n",
       "      <td>AllPub</td>\n",
       "      <td>Inside</td>\n",
       "      <td>Gtl</td>\n",
       "      <td>Gilbert</td>\n",
       "      <td>Norm</td>\n",
       "      <td>Norm</td>\n",
       "      <td>...</td>\n",
       "      <td>1</td>\n",
       "      <td>Attchd</td>\n",
       "      <td>1997.0</td>\n",
       "      <td>Fin</td>\n",
       "      <td>482.0</td>\n",
       "      <td>TA</td>\n",
       "      <td>TA</td>\n",
       "      <td>Y</td>\n",
       "      <td>WD</td>\n",
       "      <td>Normal</td>\n",
       "    </tr>\n",
       "    <tr>\n",
       "      <th>3</th>\n",
       "      <td>RL</td>\n",
       "      <td>Pave</td>\n",
       "      <td>IR1</td>\n",
       "      <td>Lvl</td>\n",
       "      <td>AllPub</td>\n",
       "      <td>Inside</td>\n",
       "      <td>Gtl</td>\n",
       "      <td>Gilbert</td>\n",
       "      <td>Norm</td>\n",
       "      <td>Norm</td>\n",
       "      <td>...</td>\n",
       "      <td>1</td>\n",
       "      <td>Attchd</td>\n",
       "      <td>1998.0</td>\n",
       "      <td>Fin</td>\n",
       "      <td>470.0</td>\n",
       "      <td>TA</td>\n",
       "      <td>TA</td>\n",
       "      <td>Y</td>\n",
       "      <td>WD</td>\n",
       "      <td>Normal</td>\n",
       "    </tr>\n",
       "    <tr>\n",
       "      <th>4</th>\n",
       "      <td>RL</td>\n",
       "      <td>Pave</td>\n",
       "      <td>IR1</td>\n",
       "      <td>HLS</td>\n",
       "      <td>AllPub</td>\n",
       "      <td>Inside</td>\n",
       "      <td>Gtl</td>\n",
       "      <td>StoneBr</td>\n",
       "      <td>Norm</td>\n",
       "      <td>Norm</td>\n",
       "      <td>...</td>\n",
       "      <td>0</td>\n",
       "      <td>Attchd</td>\n",
       "      <td>1992.0</td>\n",
       "      <td>RFn</td>\n",
       "      <td>506.0</td>\n",
       "      <td>TA</td>\n",
       "      <td>TA</td>\n",
       "      <td>Y</td>\n",
       "      <td>WD</td>\n",
       "      <td>Normal</td>\n",
       "    </tr>\n",
       "  </tbody>\n",
       "</table>\n",
       "<p>5 rows × 48 columns</p>\n",
       "</div>"
      ],
      "text/plain": [
       "  MSZoning Street LotShape LandContour Utilities LotConfig LandSlope  \\\n",
       "0       RH   Pave      Reg         Lvl    AllPub    Inside       Gtl   \n",
       "1       RL   Pave      IR1         Lvl    AllPub    Corner       Gtl   \n",
       "2       RL   Pave      IR1         Lvl    AllPub    Inside       Gtl   \n",
       "3       RL   Pave      IR1         Lvl    AllPub    Inside       Gtl   \n",
       "4       RL   Pave      IR1         HLS    AllPub    Inside       Gtl   \n",
       "\n",
       "  Neighborhood Condition1 Condition2  ... Fireplaces GarageType  GarageYrBlt  \\\n",
       "0        NAmes      Feedr       Norm  ...          0     Attchd       1961.0   \n",
       "1        NAmes       Norm       Norm  ...          0     Attchd       1958.0   \n",
       "2      Gilbert       Norm       Norm  ...          1     Attchd       1997.0   \n",
       "3      Gilbert       Norm       Norm  ...          1     Attchd       1998.0   \n",
       "4      StoneBr       Norm       Norm  ...          0     Attchd       1992.0   \n",
       "\n",
       "   GarageFinish  GarageArea GarageQual GarageCond PavedDrive SaleType  \\\n",
       "0           Unf       730.0         TA         TA          Y       WD   \n",
       "1           Unf       312.0         TA         TA          Y       WD   \n",
       "2           Fin       482.0         TA         TA          Y       WD   \n",
       "3           Fin       470.0         TA         TA          Y       WD   \n",
       "4           RFn       506.0         TA         TA          Y       WD   \n",
       "\n",
       "  SaleCondition  \n",
       "0        Normal  \n",
       "1        Normal  \n",
       "2        Normal  \n",
       "3        Normal  \n",
       "4        Normal  \n",
       "\n",
       "[5 rows x 48 columns]"
      ]
     },
     "execution_count": 274,
     "metadata": {},
     "output_type": "execute_result"
    }
   ],
   "source": [
    "df_test.head()"
   ]
  },
  {
   "cell_type": "code",
   "execution_count": 275,
   "id": "e980aa84-b440-4389-a752-f5d5aeb8a57f",
   "metadata": {},
   "outputs": [],
   "source": [
    "numeric_col = df_test.select_dtypes(include = [np.number]).columns.to_list()\n",
    "scaled_x_df_test = scaler_x.fit_transform(df_test[num_col_x])\n",
    "\n",
    "df_test[num_col_x]= scaled_x_df_test"
   ]
  },
  {
   "cell_type": "code",
   "execution_count": 276,
   "id": "5cfd1453-5503-4bda-82c6-b35ffd3a0a36",
   "metadata": {},
   "outputs": [],
   "source": [
    "df_test.dropna(inplace = True)"
   ]
  },
  {
   "cell_type": "code",
   "execution_count": 277,
   "id": "89f7e7a2-5839-42af-80ee-a1f402fa6c18",
   "metadata": {},
   "outputs": [],
   "source": [
    "for i in cat_col:\n",
    "    encoder = cat_encoder[i]\n",
    "    df_test[i]= encoder.fit_transform(df_test[i])"
   ]
  },
  {
   "cell_type": "code",
   "execution_count": 278,
   "id": "efdcc07e-e2b9-411a-a3c6-b9c80f238d0e",
   "metadata": {},
   "outputs": [],
   "source": [
    "df_test.to_csv('../data/processed/clean_test_data.csv',index = False)"
   ]
  },
  {
   "cell_type": "code",
   "execution_count": 279,
   "id": "fdcbdd1d-f993-469b-8a53-29c734edfc29",
   "metadata": {},
   "outputs": [
    {
     "data": {
      "text/html": [
       "<div>\n",
       "<style scoped>\n",
       "    .dataframe tbody tr th:only-of-type {\n",
       "        vertical-align: middle;\n",
       "    }\n",
       "\n",
       "    .dataframe tbody tr th {\n",
       "        vertical-align: top;\n",
       "    }\n",
       "\n",
       "    .dataframe thead th {\n",
       "        text-align: right;\n",
       "    }\n",
       "</style>\n",
       "<table border=\"1\" class=\"dataframe\">\n",
       "  <thead>\n",
       "    <tr style=\"text-align: right;\">\n",
       "      <th></th>\n",
       "      <th>MSZoning</th>\n",
       "      <th>Street</th>\n",
       "      <th>LotShape</th>\n",
       "      <th>LandContour</th>\n",
       "      <th>Utilities</th>\n",
       "      <th>LotConfig</th>\n",
       "      <th>LandSlope</th>\n",
       "      <th>Neighborhood</th>\n",
       "      <th>Condition1</th>\n",
       "      <th>Condition2</th>\n",
       "      <th>...</th>\n",
       "      <th>Fireplaces</th>\n",
       "      <th>GarageType</th>\n",
       "      <th>GarageYrBlt</th>\n",
       "      <th>GarageFinish</th>\n",
       "      <th>GarageArea</th>\n",
       "      <th>GarageQual</th>\n",
       "      <th>GarageCond</th>\n",
       "      <th>PavedDrive</th>\n",
       "      <th>SaleType</th>\n",
       "      <th>SaleCondition</th>\n",
       "    </tr>\n",
       "  </thead>\n",
       "  <tbody>\n",
       "    <tr>\n",
       "      <th>0</th>\n",
       "      <td>2</td>\n",
       "      <td>1</td>\n",
       "      <td>3</td>\n",
       "      <td>3</td>\n",
       "      <td>0</td>\n",
       "      <td>4</td>\n",
       "      <td>0</td>\n",
       "      <td>12</td>\n",
       "      <td>1</td>\n",
       "      <td>2</td>\n",
       "      <td>...</td>\n",
       "      <td>-0.898055</td>\n",
       "      <td>1</td>\n",
       "      <td>-0.632862</td>\n",
       "      <td>2</td>\n",
       "      <td>1.185538</td>\n",
       "      <td>3</td>\n",
       "      <td>4</td>\n",
       "      <td>2</td>\n",
       "      <td>8</td>\n",
       "      <td>4</td>\n",
       "    </tr>\n",
       "    <tr>\n",
       "      <th>1</th>\n",
       "      <td>3</td>\n",
       "      <td>1</td>\n",
       "      <td>0</td>\n",
       "      <td>3</td>\n",
       "      <td>0</td>\n",
       "      <td>0</td>\n",
       "      <td>0</td>\n",
       "      <td>12</td>\n",
       "      <td>2</td>\n",
       "      <td>2</td>\n",
       "      <td>...</td>\n",
       "      <td>-0.898055</td>\n",
       "      <td>1</td>\n",
       "      <td>-0.746405</td>\n",
       "      <td>2</td>\n",
       "      <td>-0.740959</td>\n",
       "      <td>3</td>\n",
       "      <td>4</td>\n",
       "      <td>2</td>\n",
       "      <td>8</td>\n",
       "      <td>4</td>\n",
       "    </tr>\n",
       "    <tr>\n",
       "      <th>2</th>\n",
       "      <td>3</td>\n",
       "      <td>1</td>\n",
       "      <td>0</td>\n",
       "      <td>3</td>\n",
       "      <td>0</td>\n",
       "      <td>4</td>\n",
       "      <td>0</td>\n",
       "      <td>8</td>\n",
       "      <td>2</td>\n",
       "      <td>2</td>\n",
       "      <td>...</td>\n",
       "      <td>0.647066</td>\n",
       "      <td>1</td>\n",
       "      <td>0.729660</td>\n",
       "      <td>0</td>\n",
       "      <td>0.042545</td>\n",
       "      <td>3</td>\n",
       "      <td>4</td>\n",
       "      <td>2</td>\n",
       "      <td>8</td>\n",
       "      <td>4</td>\n",
       "    </tr>\n",
       "    <tr>\n",
       "      <th>3</th>\n",
       "      <td>3</td>\n",
       "      <td>1</td>\n",
       "      <td>0</td>\n",
       "      <td>3</td>\n",
       "      <td>0</td>\n",
       "      <td>4</td>\n",
       "      <td>0</td>\n",
       "      <td>8</td>\n",
       "      <td>2</td>\n",
       "      <td>2</td>\n",
       "      <td>...</td>\n",
       "      <td>0.647066</td>\n",
       "      <td>1</td>\n",
       "      <td>0.767508</td>\n",
       "      <td>0</td>\n",
       "      <td>-0.012761</td>\n",
       "      <td>3</td>\n",
       "      <td>4</td>\n",
       "      <td>2</td>\n",
       "      <td>8</td>\n",
       "      <td>4</td>\n",
       "    </tr>\n",
       "    <tr>\n",
       "      <th>4</th>\n",
       "      <td>3</td>\n",
       "      <td>1</td>\n",
       "      <td>0</td>\n",
       "      <td>1</td>\n",
       "      <td>0</td>\n",
       "      <td>4</td>\n",
       "      <td>0</td>\n",
       "      <td>22</td>\n",
       "      <td>2</td>\n",
       "      <td>2</td>\n",
       "      <td>...</td>\n",
       "      <td>-0.898055</td>\n",
       "      <td>1</td>\n",
       "      <td>0.540421</td>\n",
       "      <td>1</td>\n",
       "      <td>0.153157</td>\n",
       "      <td>3</td>\n",
       "      <td>4</td>\n",
       "      <td>2</td>\n",
       "      <td>8</td>\n",
       "      <td>4</td>\n",
       "    </tr>\n",
       "  </tbody>\n",
       "</table>\n",
       "<p>5 rows × 48 columns</p>\n",
       "</div>"
      ],
      "text/plain": [
       "   MSZoning  Street  LotShape  LandContour  Utilities  LotConfig  LandSlope  \\\n",
       "0         2       1         3            3          0          4          0   \n",
       "1         3       1         0            3          0          0          0   \n",
       "2         3       1         0            3          0          4          0   \n",
       "3         3       1         0            3          0          4          0   \n",
       "4         3       1         0            1          0          4          0   \n",
       "\n",
       "   Neighborhood  Condition1  Condition2  ...  Fireplaces  GarageType  \\\n",
       "0            12           1           2  ...   -0.898055           1   \n",
       "1            12           2           2  ...   -0.898055           1   \n",
       "2             8           2           2  ...    0.647066           1   \n",
       "3             8           2           2  ...    0.647066           1   \n",
       "4            22           2           2  ...   -0.898055           1   \n",
       "\n",
       "   GarageYrBlt  GarageFinish  GarageArea  GarageQual  GarageCond  PavedDrive  \\\n",
       "0    -0.632862             2    1.185538           3           4           2   \n",
       "1    -0.746405             2   -0.740959           3           4           2   \n",
       "2     0.729660             0    0.042545           3           4           2   \n",
       "3     0.767508             0   -0.012761           3           4           2   \n",
       "4     0.540421             1    0.153157           3           4           2   \n",
       "\n",
       "   SaleType  SaleCondition  \n",
       "0         8              4  \n",
       "1         8              4  \n",
       "2         8              4  \n",
       "3         8              4  \n",
       "4         8              4  \n",
       "\n",
       "[5 rows x 48 columns]"
      ]
     },
     "execution_count": 279,
     "metadata": {},
     "output_type": "execute_result"
    }
   ],
   "source": [
    "df_test.head()"
   ]
  },
  {
   "cell_type": "code",
   "execution_count": null,
   "id": "ff670ae4-6f41-4483-9936-9579b3f8fcad",
   "metadata": {},
   "outputs": [],
   "source": []
  }
 ],
 "metadata": {
  "kernelspec": {
   "display_name": "Python 3 (ipykernel)",
   "language": "python",
   "name": "python3"
  },
  "language_info": {
   "codemirror_mode": {
    "name": "ipython",
    "version": 3
   },
   "file_extension": ".py",
   "mimetype": "text/x-python",
   "name": "python",
   "nbconvert_exporter": "python",
   "pygments_lexer": "ipython3",
   "version": "3.9.7"
  }
 },
 "nbformat": 4,
 "nbformat_minor": 5
}
