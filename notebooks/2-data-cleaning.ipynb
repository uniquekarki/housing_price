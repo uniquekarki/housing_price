{
 "cells": [
  {
   "cell_type": "code",
   "execution_count": 28,
   "id": "7b3f08b9-2fd5-4210-8983-462896d74eea",
   "metadata": {},
   "outputs": [],
   "source": [
    "import pandas as pd\n",
    "import numpy as np\n",
    "import matplotlib.pyplot as plt\n",
    "%matplotlib inline\n",
    "from sklearn.preprocessing import LabelEncoder, StandardScaler\n",
    "\n",
    "import seaborn as sns"
   ]
  },
  {
   "cell_type": "code",
   "execution_count": 29,
   "id": "344c21b0-4006-47bd-b619-b9fb831f3561",
   "metadata": {},
   "outputs": [
    {
     "name": "stdout",
     "output_type": "stream",
     "text": [
      "The data is read.\n"
     ]
    }
   ],
   "source": [
    "df = pd.read_csv('../data/raw/train.csv')\n",
    "print(\"The data is read.\")"
   ]
  },
  {
   "cell_type": "code",
   "execution_count": 30,
   "id": "69ba5649-8c9b-4298-8c09-c34c8a6fe4dc",
   "metadata": {},
   "outputs": [
    {
     "data": {
      "text/plain": [
       "(1460, 81)"
      ]
     },
     "execution_count": 30,
     "metadata": {},
     "output_type": "execute_result"
    }
   ],
   "source": [
    "df.shape"
   ]
  },
  {
   "cell_type": "markdown",
   "id": "e7105e67-d07a-474d-9e48-a0f23181c923",
   "metadata": {},
   "source": [
    "## Outlier Handling"
   ]
  },
  {
   "cell_type": "code",
   "execution_count": 31,
   "id": "5a2c70a9-31fe-4498-a4b9-97d2f12a32fc",
   "metadata": {},
   "outputs": [
    {
     "data": {
      "text/plain": [
       "<AxesSubplot:xlabel='SalePrice'>"
      ]
     },
     "execution_count": 31,
     "metadata": {},
     "output_type": "execute_result"
    },
    {
     "data": {
      "image/png": "[encoded data removed]",
      "text/plain": [
       "<Figure size 432x288 with 1 Axes>"
      ]
     },
     "metadata": {
      "needs_background": "light"
     },
     "output_type": "display_data"
    }
   ],
   "source": [
    "sns.boxplot(x = df['SalePrice'])"
   ]
  },
  {
   "cell_type": "code",
   "execution_count": 32,
   "id": "4f677efe-d36d-4508-8f43-c36d25feecd1",
   "metadata": {},
   "outputs": [],
   "source": [
    "q1 = df['SalePrice'].quantile(0.25)\n",
    "q3 = df['SalePrice'].quantile(0.75)\n",
    "IQR = q3 - q1"
   ]
  },
  {
   "cell_type": "code",
   "execution_count": 33,
   "id": "5a610c8c-87f3-43b6-a570-9036da3abf9f",
   "metadata": {},
   "outputs": [],
   "source": [
    "new_bound = q3 + 3*IQR"
   ]
  },
  {
   "cell_type": "code",
   "execution_count": 34,
   "id": "f4744e6a-2d65-430f-8f58-8ca27b7bd002",
   "metadata": {},
   "outputs": [],
   "source": [
    "df.drop(df[df.SalePrice > new_bound].index, axis = 0, inplace = True)"
   ]
  },
  {
   "cell_type": "code",
   "execution_count": 35,
   "id": "5e769520-7666-4c68-8f06-f8369f33c6f6",
   "metadata": {},
   "outputs": [
    {
     "data": {
      "text/plain": [
       "(1448, 81)"
      ]
     },
     "execution_count": 35,
     "metadata": {},
     "output_type": "execute_result"
    }
   ],
   "source": [
    "df.shape"
   ]
  },
  {
   "cell_type": "code",
   "execution_count": 36,
   "id": "3f546766-eea2-48c1-a443-dfad8567231e",
   "metadata": {},
   "outputs": [
    {
     "data": {
      "text/plain": [
       "<AxesSubplot:xlabel='SalePrice'>"
      ]
     },
     "execution_count": 36,
     "metadata": {},
     "output_type": "execute_result"
    },
    {
     "data": {
      "image/png": "[encoded data removed]",
      "text/plain": [
       "<Figure size 432x288 with 1 Axes>"
      ]
     },
     "metadata": {
      "needs_background": "light"
     },
     "output_type": "display_data"
    }
   ],
   "source": [
    "sns.boxplot(x = df['SalePrice'])"
   ]
  },
  {
   "cell_type": "markdown",
   "id": "0706398f-ce44-4c0f-a80d-1f3fc250df0f",
   "metadata": {},
   "source": [
    "## Removing columns"
   ]
  },
  {
   "cell_type": "code",
   "execution_count": 37,
   "id": "e345ac10-7de4-43bf-bc00-8131795a05e1",
   "metadata": {},
   "outputs": [
    {
     "data": {
      "text/html": [
       "<div>\n",
       "<style scoped>\n",
       "    .dataframe tbody tr th:only-of-type {\n",
       "        vertical-align: middle;\n",
       "    }\n",
       "\n",
       "    .dataframe tbody tr th {\n",
       "        vertical-align: top;\n",
       "    }\n",
       "\n",
       "    .dataframe thead th {\n",
       "        text-align: right;\n",
       "    }\n",
       "</style>\n",
       "<table border=\"1\" class=\"dataframe\">\n",
       "  <thead>\n",
       "    <tr style=\"text-align: right;\">\n",
       "      <th></th>\n",
       "      <th>Id</th>\n",
       "      <th>MSSubClass</th>\n",
       "      <th>LotFrontage</th>\n",
       "      <th>LotArea</th>\n",
       "      <th>OverallQual</th>\n",
       "      <th>OverallCond</th>\n",
       "      <th>YearBuilt</th>\n",
       "      <th>YearRemodAdd</th>\n",
       "      <th>MasVnrArea</th>\n",
       "      <th>BsmtFinSF1</th>\n",
       "      <th>...</th>\n",
       "      <th>WoodDeckSF</th>\n",
       "      <th>OpenPorchSF</th>\n",
       "      <th>EnclosedPorch</th>\n",
       "      <th>3SsnPorch</th>\n",
       "      <th>ScreenPorch</th>\n",
       "      <th>PoolArea</th>\n",
       "      <th>MiscVal</th>\n",
       "      <th>MoSold</th>\n",
       "      <th>YrSold</th>\n",
       "      <th>SalePrice</th>\n",
       "    </tr>\n",
       "  </thead>\n",
       "  <tbody>\n",
       "    <tr>\n",
       "      <th>0</th>\n",
       "      <td>1</td>\n",
       "      <td>60</td>\n",
       "      <td>65.0</td>\n",
       "      <td>8450</td>\n",
       "      <td>7</td>\n",
       "      <td>5</td>\n",
       "      <td>2003</td>\n",
       "      <td>2003</td>\n",
       "      <td>196.0</td>\n",
       "      <td>706</td>\n",
       "      <td>...</td>\n",
       "      <td>0</td>\n",
       "      <td>61</td>\n",
       "      <td>0</td>\n",
       "      <td>0</td>\n",
       "      <td>0</td>\n",
       "      <td>0</td>\n",
       "      <td>0</td>\n",
       "      <td>2</td>\n",
       "      <td>2008</td>\n",
       "      <td>208500</td>\n",
       "    </tr>\n",
       "    <tr>\n",
       "      <th>1</th>\n",
       "      <td>2</td>\n",
       "      <td>20</td>\n",
       "      <td>80.0</td>\n",
       "      <td>9600</td>\n",
       "      <td>6</td>\n",
       "      <td>8</td>\n",
       "      <td>1976</td>\n",
       "      <td>1976</td>\n",
       "      <td>0.0</td>\n",
       "      <td>978</td>\n",
       "      <td>...</td>\n",
       "      <td>298</td>\n",
       "      <td>0</td>\n",
       "      <td>0</td>\n",
       "      <td>0</td>\n",
       "      <td>0</td>\n",
       "      <td>0</td>\n",
       "      <td>0</td>\n",
       "      <td>5</td>\n",
       "      <td>2007</td>\n",
       "      <td>181500</td>\n",
       "    </tr>\n",
       "    <tr>\n",
       "      <th>2</th>\n",
       "      <td>3</td>\n",
       "      <td>60</td>\n",
       "      <td>68.0</td>\n",
       "      <td>11250</td>\n",
       "      <td>7</td>\n",
       "      <td>5</td>\n",
       "      <td>2001</td>\n",
       "      <td>2002</td>\n",
       "      <td>162.0</td>\n",
       "      <td>486</td>\n",
       "      <td>...</td>\n",
       "      <td>0</td>\n",
       "      <td>42</td>\n",
       "      <td>0</td>\n",
       "      <td>0</td>\n",
       "      <td>0</td>\n",
       "      <td>0</td>\n",
       "      <td>0</td>\n",
       "      <td>9</td>\n",
       "      <td>2008</td>\n",
       "      <td>223500</td>\n",
       "    </tr>\n",
       "    <tr>\n",
       "      <th>3</th>\n",
       "      <td>4</td>\n",
       "      <td>70</td>\n",
       "      <td>60.0</td>\n",
       "      <td>9550</td>\n",
       "      <td>7</td>\n",
       "      <td>5</td>\n",
       "      <td>1915</td>\n",
       "      <td>1970</td>\n",
       "      <td>0.0</td>\n",
       "      <td>216</td>\n",
       "      <td>...</td>\n",
       "      <td>0</td>\n",
       "      <td>35</td>\n",
       "      <td>272</td>\n",
       "      <td>0</td>\n",
       "      <td>0</td>\n",
       "      <td>0</td>\n",
       "      <td>0</td>\n",
       "      <td>2</td>\n",
       "      <td>2006</td>\n",
       "      <td>140000</td>\n",
       "    </tr>\n",
       "    <tr>\n",
       "      <th>4</th>\n",
       "      <td>5</td>\n",
       "      <td>60</td>\n",
       "      <td>84.0</td>\n",
       "      <td>14260</td>\n",
       "      <td>8</td>\n",
       "      <td>5</td>\n",
       "      <td>2000</td>\n",
       "      <td>2000</td>\n",
       "      <td>350.0</td>\n",
       "      <td>655</td>\n",
       "      <td>...</td>\n",
       "      <td>192</td>\n",
       "      <td>84</td>\n",
       "      <td>0</td>\n",
       "      <td>0</td>\n",
       "      <td>0</td>\n",
       "      <td>0</td>\n",
       "      <td>0</td>\n",
       "      <td>12</td>\n",
       "      <td>2008</td>\n",
       "      <td>250000</td>\n",
       "    </tr>\n",
       "  </tbody>\n",
       "</table>\n",
       "<p>5 rows × 38 columns</p>\n",
       "</div>"
      ],
      "text/plain": [
       "   Id  MSSubClass  LotFrontage  LotArea  OverallQual  OverallCond  YearBuilt  \\\n",
       "0   1          60         65.0     8450            7            5       2003   \n",
       "1   2          20         80.0     9600            6            8       1976   \n",
       "2   3          60         68.0    11250            7            5       2001   \n",
       "3   4          70         60.0     9550            7            5       1915   \n",
       "4   5          60         84.0    14260            8            5       2000   \n",
       "\n",
       "   YearRemodAdd  MasVnrArea  BsmtFinSF1  ...  WoodDeckSF  OpenPorchSF  \\\n",
       "0          2003       196.0         706  ...           0           61   \n",
       "1          1976         0.0         978  ...         298            0   \n",
       "2          2002       162.0         486  ...           0           42   \n",
       "3          1970         0.0         216  ...           0           35   \n",
       "4          2000       350.0         655  ...         192           84   \n",
       "\n",
       "   EnclosedPorch  3SsnPorch  ScreenPorch  PoolArea  MiscVal  MoSold  YrSold  \\\n",
       "0              0          0            0         0        0       2    2008   \n",
       "1              0          0            0         0        0       5    2007   \n",
       "2              0          0            0         0        0       9    2008   \n",
       "3            272          0            0         0        0       2    2006   \n",
       "4              0          0            0         0        0      12    2008   \n",
       "\n",
       "   SalePrice  \n",
       "0     208500  \n",
       "1     181500  \n",
       "2     223500  \n",
       "3     140000  \n",
       "4     250000  \n",
       "\n",
       "[5 rows x 38 columns]"
      ]
     },
     "execution_count": 37,
     "metadata": {},
     "output_type": "execute_result"
    }
   ],
   "source": [
    "numeric_features = df.select_dtypes(include=[np.number])\n",
    "numeric_features.head()"
   ]
  },
  {
   "cell_type": "code",
   "execution_count": 38,
   "id": "eb591526-fa8b-46e7-aa45-1a3cb0e2315f",
   "metadata": {},
   "outputs": [],
   "source": [
    "null_val = df.isnull().sum()\n",
    "null_val = null_val[null_val > 0.2*1148]\n",
    "null_val.sort_values(inplace = True)"
   ]
  },
  {
   "cell_type": "code",
   "execution_count": 39,
   "id": "5264f440-ac33-48ce-8807-947724e6f162",
   "metadata": {},
   "outputs": [
    {
     "data": {
      "text/plain": [
       "LotFrontage     258\n",
       "FireplaceQu     690\n",
       "Fence          1169\n",
       "Alley          1357\n",
       "MiscFeature    1394\n",
       "PoolQC         1442\n",
       "dtype: int64"
      ]
     },
     "execution_count": 39,
     "metadata": {},
     "output_type": "execute_result"
    }
   ],
   "source": [
    "null_val"
   ]
  },
  {
   "cell_type": "code",
   "execution_count": 40,
   "id": "19d2c24c-7228-4506-86bd-a58245ab88a1",
   "metadata": {},
   "outputs": [
    {
     "data": {
      "text/plain": [
       "SalePrice        1.000000\n",
       "OverallQual      0.800000\n",
       "GrLivArea        0.679068\n",
       "GarageCars       0.653663\n",
       "GarageArea       0.632507\n",
       "TotalBsmtSF      0.594397\n",
       "1stFlrSF         0.584448\n",
       "YearBuilt        0.556740\n",
       "FullBath         0.552082\n",
       "YearRemodAdd     0.534765\n",
       "GarageYrBlt      0.508040\n",
       "TotRmsAbvGrd     0.502738\n",
       "Fireplaces       0.461581\n",
       "MasVnrArea       0.433622\n",
       "BsmtFinSF1       0.364725\n",
       "LotFrontage      0.336667\n",
       "WoodDeckSF       0.334476\n",
       "OpenPorchSF      0.325409\n",
       "2ndFlrSF         0.287455\n",
       "HalfBath         0.278858\n",
       "LotArea          0.252031\n",
       "BsmtFullBath     0.242846\n",
       "BsmtUnfSF        0.211252\n",
       "BedroomAbvGr     0.164610\n",
       "ScreenPorch      0.081308\n",
       "MoSold           0.079185\n",
       "3SsnPorch        0.055720\n",
       "PoolArea         0.033403\n",
       "BsmtFinSF2      -0.011770\n",
       "MiscVal         -0.019849\n",
       "BsmtHalfBath    -0.031552\n",
       "YrSold          -0.034292\n",
       "Id              -0.034666\n",
       "LowQualFinSF    -0.060257\n",
       "OverallCond     -0.079676\n",
       "MSSubClass      -0.086540\n",
       "EnclosedPorch   -0.128520\n",
       "KitchenAbvGr    -0.143610\n",
       "Name: SalePrice, dtype: float64"
      ]
     },
     "execution_count": 40,
     "metadata": {},
     "output_type": "execute_result"
    }
   ],
   "source": [
    "numeric_features.corr().SalePrice.sort_values(ascending = False)"
   ]
  },
  {
   "cell_type": "code",
   "execution_count": 41,
   "id": "b517906e-0c43-48f3-8d2e-40273e3bdb2d",
   "metadata": {},
   "outputs": [],
   "source": [
    "arr = []"
   ]
  },
  {
   "cell_type": "code",
   "execution_count": 42,
   "id": "1978043a-de96-4275-a734-8122325077bf",
   "metadata": {},
   "outputs": [],
   "source": [
    "corr_m = numeric_features.corr()\n",
    "corr_m = corr_m['SalePrice'].sort_values(ascending = False)\n",
    "poor_cor = corr_m[(corr_m.values < 0.35) & (corr_m.values > -0.03)]\n",
    "arr = np.append(arr, poor_cor.index.to_list())"
   ]
  },
  {
   "cell_type": "code",
   "execution_count": 43,
   "id": "ff4d1721-2689-4a32-847b-a8f82f74c90b",
   "metadata": {},
   "outputs": [
    {
     "data": {
      "text/plain": [
       "array(['LotFrontage', 'WoodDeckSF', 'OpenPorchSF', '2ndFlrSF', 'HalfBath',\n",
       "       'LotArea', 'BsmtFullBath', 'BsmtUnfSF', 'BedroomAbvGr',\n",
       "       'ScreenPorch', 'MoSold', '3SsnPorch', 'PoolArea', 'BsmtFinSF2',\n",
       "       'MiscVal'], dtype='<U32')"
      ]
     },
     "execution_count": 43,
     "metadata": {},
     "output_type": "execute_result"
    }
   ],
   "source": [
    "arr"
   ]
  },
  {
   "cell_type": "code",
   "execution_count": 17,
   "id": "71ae7752-e7ac-4605-9426-f8263a01222f",
   "metadata": {},
   "outputs": [],
   "source": [
    "to_remove = ['GarageCars','1stFlrSF','GrLivArea','FullBath','LotFrontage', 'WoodDeckSF', 'OpenPorchSF', '2ndFlrSF', 'HalfBath',\n",
    "       'LotArea', 'BsmtFullBath', 'BsmtUnfSF', 'BedroomAbvGr',\n",
    "       'ScreenPorch', 'MoSold', '3SsnPorch', 'PoolArea', 'BsmtFinSF2',\n",
    "       'MiscVal', 'BsmtHalfBath', 'YrSold', 'Id', 'LowQualFinSF',\n",
    "       'OverallCond', 'MSSubClass', 'EnclosedPorch', 'KitchenAbvGr','LotFrontage', 'FireplaceQu', 'Fence', 'Alley', 'MiscFeature',\n",
    "       'PoolQC']"
   ]
  },
  {
   "cell_type": "code",
   "execution_count": 18,
   "id": "cc88b69d-477b-45e7-b5c2-8c0cb7a3a9a2",
   "metadata": {},
   "outputs": [],
   "source": [
    "df.drop(to_remove,axis = 1,inplace = True)"
   ]
  },
  {
   "cell_type": "code",
   "execution_count": 19,
   "id": "11b642ac-97c8-46ea-a27a-bd202ea80c12",
   "metadata": {},
   "outputs": [],
   "source": [
    "numeric_col = df.select_dtypes(include = [np.number]).columns.to_list()\n",
    "num_col_x = numeric_col[:-1]\n",
    "num_col_y = numeric_col[-1]\n",
    "scaler_x = StandardScaler()\n",
    "scaled_x_df = scaler_x.fit_transform(df[num_col_x])\n",
    "scaler_y = StandardScaler()\n",
    "scaled_y_df = scaler_y.fit_transform(df[num_col_y].values.reshape(-1, 1))\n",
    "\n",
    "df[num_col_x],df[num_col_y] = scaled_x_df, scaled_y_df"
   ]
  },
  {
   "cell_type": "code",
   "execution_count": 20,
   "id": "764f6fc2-6130-4116-9397-15fc17832c59",
   "metadata": {},
   "outputs": [
    {
     "data": {
      "text/html": [
       "<div>\n",
       "<style scoped>\n",
       "    .dataframe tbody tr th:only-of-type {\n",
       "        vertical-align: middle;\n",
       "    }\n",
       "\n",
       "    .dataframe tbody tr th {\n",
       "        vertical-align: top;\n",
       "    }\n",
       "\n",
       "    .dataframe thead th {\n",
       "        text-align: right;\n",
       "    }\n",
       "</style>\n",
       "<table border=\"1\" class=\"dataframe\">\n",
       "  <thead>\n",
       "    <tr style=\"text-align: right;\">\n",
       "      <th></th>\n",
       "      <th>MSZoning</th>\n",
       "      <th>Street</th>\n",
       "      <th>LotShape</th>\n",
       "      <th>LandContour</th>\n",
       "      <th>Utilities</th>\n",
       "      <th>LotConfig</th>\n",
       "      <th>LandSlope</th>\n",
       "      <th>Neighborhood</th>\n",
       "      <th>Condition1</th>\n",
       "      <th>Condition2</th>\n",
       "      <th>...</th>\n",
       "      <th>GarageType</th>\n",
       "      <th>GarageYrBlt</th>\n",
       "      <th>GarageFinish</th>\n",
       "      <th>GarageArea</th>\n",
       "      <th>GarageQual</th>\n",
       "      <th>GarageCond</th>\n",
       "      <th>PavedDrive</th>\n",
       "      <th>SaleType</th>\n",
       "      <th>SaleCondition</th>\n",
       "      <th>SalePrice</th>\n",
       "    </tr>\n",
       "  </thead>\n",
       "  <tbody>\n",
       "    <tr>\n",
       "      <th>0</th>\n",
       "      <td>RL</td>\n",
       "      <td>Pave</td>\n",
       "      <td>Reg</td>\n",
       "      <td>Lvl</td>\n",
       "      <td>AllPub</td>\n",
       "      <td>Inside</td>\n",
       "      <td>Gtl</td>\n",
       "      <td>CollgCr</td>\n",
       "      <td>Norm</td>\n",
       "      <td>Norm</td>\n",
       "      <td>...</td>\n",
       "      <td>Attchd</td>\n",
       "      <td>1.001096</td>\n",
       "      <td>RFn</td>\n",
       "      <td>0.369164</td>\n",
       "      <td>TA</td>\n",
       "      <td>TA</td>\n",
       "      <td>Y</td>\n",
       "      <td>WD</td>\n",
       "      <td>Normal</td>\n",
       "      <td>0.436537</td>\n",
       "    </tr>\n",
       "    <tr>\n",
       "      <th>1</th>\n",
       "      <td>RL</td>\n",
       "      <td>Pave</td>\n",
       "      <td>Reg</td>\n",
       "      <td>Lvl</td>\n",
       "      <td>AllPub</td>\n",
       "      <td>FR2</td>\n",
       "      <td>Gtl</td>\n",
       "      <td>Veenker</td>\n",
       "      <td>Feedr</td>\n",
       "      <td>Norm</td>\n",
       "      <td>...</td>\n",
       "      <td>Attchd</td>\n",
       "      <td>-0.092989</td>\n",
       "      <td>RFn</td>\n",
       "      <td>-0.046740</td>\n",
       "      <td>TA</td>\n",
       "      <td>TA</td>\n",
       "      <td>Y</td>\n",
       "      <td>WD</td>\n",
       "      <td>Normal</td>\n",
       "      <td>0.054391</td>\n",
       "    </tr>\n",
       "    <tr>\n",
       "      <th>2</th>\n",
       "      <td>RL</td>\n",
       "      <td>Pave</td>\n",
       "      <td>IR1</td>\n",
       "      <td>Lvl</td>\n",
       "      <td>AllPub</td>\n",
       "      <td>Inside</td>\n",
       "      <td>Gtl</td>\n",
       "      <td>CollgCr</td>\n",
       "      <td>Norm</td>\n",
       "      <td>Norm</td>\n",
       "      <td>...</td>\n",
       "      <td>Attchd</td>\n",
       "      <td>0.920052</td>\n",
       "      <td>RFn</td>\n",
       "      <td>0.652735</td>\n",
       "      <td>TA</td>\n",
       "      <td>TA</td>\n",
       "      <td>Y</td>\n",
       "      <td>WD</td>\n",
       "      <td>Normal</td>\n",
       "      <td>0.648840</td>\n",
       "    </tr>\n",
       "    <tr>\n",
       "      <th>3</th>\n",
       "      <td>RL</td>\n",
       "      <td>Pave</td>\n",
       "      <td>IR1</td>\n",
       "      <td>Lvl</td>\n",
       "      <td>AllPub</td>\n",
       "      <td>Corner</td>\n",
       "      <td>Gtl</td>\n",
       "      <td>Crawfor</td>\n",
       "      <td>Norm</td>\n",
       "      <td>Norm</td>\n",
       "      <td>...</td>\n",
       "      <td>Detchd</td>\n",
       "      <td>0.798487</td>\n",
       "      <td>Unf</td>\n",
       "      <td>0.813425</td>\n",
       "      <td>TA</td>\n",
       "      <td>TA</td>\n",
       "      <td>Y</td>\n",
       "      <td>WD</td>\n",
       "      <td>Abnorml</td>\n",
       "      <td>-0.532981</td>\n",
       "    </tr>\n",
       "    <tr>\n",
       "      <th>4</th>\n",
       "      <td>RL</td>\n",
       "      <td>Pave</td>\n",
       "      <td>IR1</td>\n",
       "      <td>Lvl</td>\n",
       "      <td>AllPub</td>\n",
       "      <td>FR2</td>\n",
       "      <td>Gtl</td>\n",
       "      <td>NoRidge</td>\n",
       "      <td>Norm</td>\n",
       "      <td>Norm</td>\n",
       "      <td>...</td>\n",
       "      <td>Attchd</td>\n",
       "      <td>0.879531</td>\n",
       "      <td>RFn</td>\n",
       "      <td>1.730303</td>\n",
       "      <td>TA</td>\n",
       "      <td>TA</td>\n",
       "      <td>Y</td>\n",
       "      <td>WD</td>\n",
       "      <td>Normal</td>\n",
       "      <td>1.023909</td>\n",
       "    </tr>\n",
       "  </tbody>\n",
       "</table>\n",
       "<p>5 rows × 49 columns</p>\n",
       "</div>"
      ],
      "text/plain": [
       "  MSZoning Street LotShape LandContour Utilities LotConfig LandSlope  \\\n",
       "0       RL   Pave      Reg         Lvl    AllPub    Inside       Gtl   \n",
       "1       RL   Pave      Reg         Lvl    AllPub       FR2       Gtl   \n",
       "2       RL   Pave      IR1         Lvl    AllPub    Inside       Gtl   \n",
       "3       RL   Pave      IR1         Lvl    AllPub    Corner       Gtl   \n",
       "4       RL   Pave      IR1         Lvl    AllPub       FR2       Gtl   \n",
       "\n",
       "  Neighborhood Condition1 Condition2  ... GarageType GarageYrBlt  \\\n",
       "0      CollgCr       Norm       Norm  ...     Attchd    1.001096   \n",
       "1      Veenker      Feedr       Norm  ...     Attchd   -0.092989   \n",
       "2      CollgCr       Norm       Norm  ...     Attchd    0.920052   \n",
       "3      Crawfor       Norm       Norm  ...     Detchd    0.798487   \n",
       "4      NoRidge       Norm       Norm  ...     Attchd    0.879531   \n",
       "\n",
       "   GarageFinish  GarageArea  GarageQual GarageCond PavedDrive SaleType  \\\n",
       "0           RFn    0.369164          TA         TA          Y       WD   \n",
       "1           RFn   -0.046740          TA         TA          Y       WD   \n",
       "2           RFn    0.652735          TA         TA          Y       WD   \n",
       "3           Unf    0.813425          TA         TA          Y       WD   \n",
       "4           RFn    1.730303          TA         TA          Y       WD   \n",
       "\n",
       "  SaleCondition SalePrice  \n",
       "0        Normal  0.436537  \n",
       "1        Normal  0.054391  \n",
       "2        Normal  0.648840  \n",
       "3       Abnorml -0.532981  \n",
       "4        Normal  1.023909  \n",
       "\n",
       "[5 rows x 49 columns]"
      ]
     },
     "execution_count": 20,
     "metadata": {},
     "output_type": "execute_result"
    }
   ],
   "source": [
    "df.head()"
   ]
  },
  {
   "cell_type": "markdown",
   "id": "89a0b512-8791-420d-83ae-e67794242b02",
   "metadata": {},
   "source": [
    "## Categorical features encoding"
   ]
  },
  {
   "cell_type": "code",
   "execution_count": 21,
   "id": "9c1cd35e-4f3e-4bf2-b957-1a1a36aa4051",
   "metadata": {},
   "outputs": [],
   "source": [
    "cat_col = df.select_dtypes(include = ['object']).columns.to_list()"
   ]
  },
  {
   "cell_type": "code",
   "execution_count": 22,
   "id": "9db7c95a-f542-49fd-bfbb-49d499eaa708",
   "metadata": {},
   "outputs": [
    {
     "data": {
      "text/plain": [
       "MSZoning         object\n",
       "Street           object\n",
       "LotShape         object\n",
       "LandContour      object\n",
       "Utilities        object\n",
       "LotConfig        object\n",
       "LandSlope        object\n",
       "Neighborhood     object\n",
       "Condition1       object\n",
       "Condition2       object\n",
       "BldgType         object\n",
       "HouseStyle       object\n",
       "RoofStyle        object\n",
       "RoofMatl         object\n",
       "Exterior1st      object\n",
       "Exterior2nd      object\n",
       "MasVnrType       object\n",
       "ExterQual        object\n",
       "ExterCond        object\n",
       "Foundation       object\n",
       "BsmtQual         object\n",
       "BsmtCond         object\n",
       "BsmtExposure     object\n",
       "BsmtFinType1     object\n",
       "BsmtFinType2     object\n",
       "Heating          object\n",
       "HeatingQC        object\n",
       "CentralAir       object\n",
       "Electrical       object\n",
       "KitchenQual      object\n",
       "Functional       object\n",
       "GarageType       object\n",
       "GarageFinish     object\n",
       "GarageQual       object\n",
       "GarageCond       object\n",
       "PavedDrive       object\n",
       "SaleType         object\n",
       "SaleCondition    object\n",
       "dtype: object"
      ]
     },
     "execution_count": 22,
     "metadata": {},
     "output_type": "execute_result"
    }
   ],
   "source": [
    "df[cat_col].dtypes"
   ]
  },
  {
   "cell_type": "code",
   "execution_count": 27,
   "id": "ae9da748-e803-4232-90e7-7ab55b38c002",
   "metadata": {},
   "outputs": [
    {
     "data": {
      "text/plain": [
       "0       BrkFace\n",
       "1          None\n",
       "2       BrkFace\n",
       "3          None\n",
       "4       BrkFace\n",
       "         ...   \n",
       "1455       None\n",
       "1456      Stone\n",
       "1457       None\n",
       "1458       None\n",
       "1459       None\n",
       "Name: MasVnrType, Length: 1448, dtype: object"
      ]
     },
     "execution_count": 27,
     "metadata": {},
     "output_type": "execute_result"
    }
   ],
   "source": [
    "df['MasVnrType']"
   ]
  },
  {
   "cell_type": "code",
   "execution_count": 23,
   "id": "1406afc8-c051-4f25-b2cb-b36425f6d79b",
   "metadata": {},
   "outputs": [
    {
     "name": "stdout",
     "output_type": "stream",
     "text": [
      "0       RL\n",
      "1       RL\n",
      "2       RL\n",
      "3       RL\n",
      "4       RL\n",
      "        ..\n",
      "1455    RL\n",
      "1456    RL\n",
      "1457    RL\n",
      "1458    RL\n",
      "1459    RL\n",
      "Name: MSZoning, Length: 1448, dtype: object\n",
      "0       Pave\n",
      "1       Pave\n",
      "2       Pave\n",
      "3       Pave\n",
      "4       Pave\n",
      "        ... \n",
      "1455    Pave\n",
      "1456    Pave\n",
      "1457    Pave\n",
      "1458    Pave\n",
      "1459    Pave\n",
      "Name: Street, Length: 1448, dtype: object\n",
      "0       Reg\n",
      "1       Reg\n",
      "2       IR1\n",
      "3       IR1\n",
      "4       IR1\n",
      "       ... \n",
      "1455    Reg\n",
      "1456    Reg\n",
      "1457    Reg\n",
      "1458    Reg\n",
      "1459    Reg\n",
      "Name: LotShape, Length: 1448, dtype: object\n",
      "0       Lvl\n",
      "1       Lvl\n",
      "2       Lvl\n",
      "3       Lvl\n",
      "4       Lvl\n",
      "       ... \n",
      "1455    Lvl\n",
      "1456    Lvl\n",
      "1457    Lvl\n",
      "1458    Lvl\n",
      "1459    Lvl\n",
      "Name: LandContour, Length: 1448, dtype: object\n",
      "0       AllPub\n",
      "1       AllPub\n",
      "2       AllPub\n",
      "3       AllPub\n",
      "4       AllPub\n",
      "         ...  \n",
      "1455    AllPub\n",
      "1456    AllPub\n",
      "1457    AllPub\n",
      "1458    AllPub\n",
      "1459    AllPub\n",
      "Name: Utilities, Length: 1448, dtype: object\n",
      "0       Inside\n",
      "1          FR2\n",
      "2       Inside\n",
      "3       Corner\n",
      "4          FR2\n",
      "         ...  \n",
      "1455    Inside\n",
      "1456    Inside\n",
      "1457    Inside\n",
      "1458    Inside\n",
      "1459    Inside\n",
      "Name: LotConfig, Length: 1448, dtype: object\n",
      "0       Gtl\n",
      "1       Gtl\n",
      "2       Gtl\n",
      "3       Gtl\n",
      "4       Gtl\n",
      "       ... \n",
      "1455    Gtl\n",
      "1456    Gtl\n",
      "1457    Gtl\n",
      "1458    Gtl\n",
      "1459    Gtl\n",
      "Name: LandSlope, Length: 1448, dtype: object\n",
      "0       CollgCr\n",
      "1       Veenker\n",
      "2       CollgCr\n",
      "3       Crawfor\n",
      "4       NoRidge\n",
      "         ...   \n",
      "1455    Gilbert\n",
      "1456     NWAmes\n",
      "1457    Crawfor\n",
      "1458      NAmes\n",
      "1459    Edwards\n",
      "Name: Neighborhood, Length: 1448, dtype: object\n",
      "0        Norm\n",
      "1       Feedr\n",
      "2        Norm\n",
      "3        Norm\n",
      "4        Norm\n",
      "        ...  \n",
      "1455     Norm\n",
      "1456     Norm\n",
      "1457     Norm\n",
      "1458     Norm\n",
      "1459     Norm\n",
      "Name: Condition1, Length: 1448, dtype: object\n",
      "0       Norm\n",
      "1       Norm\n",
      "2       Norm\n",
      "3       Norm\n",
      "4       Norm\n",
      "        ... \n",
      "1455    Norm\n",
      "1456    Norm\n",
      "1457    Norm\n",
      "1458    Norm\n",
      "1459    Norm\n",
      "Name: Condition2, Length: 1448, dtype: object\n",
      "0       1Fam\n",
      "1       1Fam\n",
      "2       1Fam\n",
      "3       1Fam\n",
      "4       1Fam\n",
      "        ... \n",
      "1455    1Fam\n",
      "1456    1Fam\n",
      "1457    1Fam\n",
      "1458    1Fam\n",
      "1459    1Fam\n",
      "Name: BldgType, Length: 1448, dtype: object\n",
      "0       2Story\n",
      "1       1Story\n",
      "2       2Story\n",
      "3       2Story\n",
      "4       2Story\n",
      "         ...  \n",
      "1455    2Story\n",
      "1456    1Story\n",
      "1457    2Story\n",
      "1458    1Story\n",
      "1459    1Story\n",
      "Name: HouseStyle, Length: 1448, dtype: object\n",
      "0       Gable\n",
      "1       Gable\n",
      "2       Gable\n",
      "3       Gable\n",
      "4       Gable\n",
      "        ...  \n",
      "1455    Gable\n",
      "1456    Gable\n",
      "1457    Gable\n",
      "1458      Hip\n",
      "1459    Gable\n",
      "Name: RoofStyle, Length: 1448, dtype: object\n",
      "0       CompShg\n",
      "1       CompShg\n",
      "2       CompShg\n",
      "3       CompShg\n",
      "4       CompShg\n",
      "         ...   \n",
      "1455    CompShg\n",
      "1456    CompShg\n",
      "1457    CompShg\n",
      "1458    CompShg\n",
      "1459    CompShg\n",
      "Name: RoofMatl, Length: 1448, dtype: object\n",
      "0       VinylSd\n",
      "1       MetalSd\n",
      "2       VinylSd\n",
      "3       Wd Sdng\n",
      "4       VinylSd\n",
      "         ...   \n",
      "1455    VinylSd\n",
      "1456    Plywood\n",
      "1457    CemntBd\n",
      "1458    MetalSd\n",
      "1459    HdBoard\n",
      "Name: Exterior1st, Length: 1448, dtype: object\n",
      "0       VinylSd\n",
      "1       MetalSd\n",
      "2       VinylSd\n",
      "3       Wd Shng\n",
      "4       VinylSd\n",
      "         ...   \n",
      "1455    VinylSd\n",
      "1456    Plywood\n",
      "1457    CmentBd\n",
      "1458    MetalSd\n",
      "1459    HdBoard\n",
      "Name: Exterior2nd, Length: 1448, dtype: object\n",
      "0       BrkFace\n",
      "1          None\n",
      "2       BrkFace\n",
      "3          None\n",
      "4       BrkFace\n",
      "         ...   \n",
      "1455       None\n",
      "1456      Stone\n",
      "1457       None\n",
      "1458       None\n",
      "1459       None\n",
      "Name: MasVnrType, Length: 1448, dtype: object\n"
     ]
    },
    {
     "ename": "TypeError",
     "evalue": "Encoders require their input to be uniformly strings or numbers. Got ['float', 'str']",
     "output_type": "error",
     "traceback": [
      "\u001b[0;31m---------------------------------------------------------------------------\u001b[0m",
      "\u001b[0;31mTypeError\u001b[0m                                 Traceback (most recent call last)",
      "File \u001b[0;32m~/anaconda3/envs/ai/lib/python3.9/site-packages/sklearn/preprocessing/_label.py:113\u001b[0m, in \u001b[0;36m_encode\u001b[0;34m(values, uniques, encode, check_unknown)\u001b[0m\n\u001b[1;32m    112\u001b[0m \u001b[38;5;28;01mtry\u001b[39;00m:\n\u001b[0;32m--> 113\u001b[0m     res \u001b[38;5;241m=\u001b[39m \u001b[43m_encode_python\u001b[49m\u001b[43m(\u001b[49m\u001b[43mvalues\u001b[49m\u001b[43m,\u001b[49m\u001b[43m \u001b[49m\u001b[43muniques\u001b[49m\u001b[43m,\u001b[49m\u001b[43m \u001b[49m\u001b[43mencode\u001b[49m\u001b[43m)\u001b[49m\n\u001b[1;32m    114\u001b[0m \u001b[38;5;28;01mexcept\u001b[39;00m \u001b[38;5;167;01mTypeError\u001b[39;00m:\n",
      "File \u001b[0;32m~/anaconda3/envs/ai/lib/python3.9/site-packages/sklearn/preprocessing/_label.py:61\u001b[0m, in \u001b[0;36m_encode_python\u001b[0;34m(values, uniques, encode)\u001b[0m\n\u001b[1;32m     60\u001b[0m \u001b[38;5;28;01mif\u001b[39;00m uniques \u001b[38;5;129;01mis\u001b[39;00m \u001b[38;5;28;01mNone\u001b[39;00m:\n\u001b[0;32m---> 61\u001b[0m     uniques \u001b[38;5;241m=\u001b[39m \u001b[38;5;28;43msorted\u001b[39;49m\u001b[43m(\u001b[49m\u001b[38;5;28;43mset\u001b[39;49m\u001b[43m(\u001b[49m\u001b[43mvalues\u001b[49m\u001b[43m)\u001b[49m\u001b[43m)\u001b[49m\n\u001b[1;32m     62\u001b[0m     uniques \u001b[38;5;241m=\u001b[39m np\u001b[38;5;241m.\u001b[39marray(uniques, dtype\u001b[38;5;241m=\u001b[39mvalues\u001b[38;5;241m.\u001b[39mdtype)\n",
      "\u001b[0;31mTypeError\u001b[0m: '<' not supported between instances of 'str' and 'float'",
      "\nDuring handling of the above exception, another exception occurred:\n",
      "\u001b[0;31mTypeError\u001b[0m                                 Traceback (most recent call last)",
      "Input \u001b[0;32mIn [23]\u001b[0m, in \u001b[0;36m<module>\u001b[0;34m\u001b[0m\n\u001b[1;32m      4\u001b[0m \u001b[38;5;28mprint\u001b[39m(df[i])\n\u001b[1;32m      5\u001b[0m encoder \u001b[38;5;241m=\u001b[39m LabelEncoder()\n\u001b[0;32m----> 6\u001b[0m df[i]\u001b[38;5;241m=\u001b[39m \u001b[43mencoder\u001b[49m\u001b[38;5;241;43m.\u001b[39;49m\u001b[43mfit_transform\u001b[49m\u001b[43m(\u001b[49m\u001b[43mdf\u001b[49m\u001b[43m[\u001b[49m\u001b[43mi\u001b[49m\u001b[43m]\u001b[49m\u001b[43m)\u001b[49m\n\u001b[1;32m      7\u001b[0m cat_encoder[i]\u001b[38;5;241m=\u001b[39m encoder\n",
      "File \u001b[0;32m~/anaconda3/envs/ai/lib/python3.9/site-packages/sklearn/preprocessing/_label.py:256\u001b[0m, in \u001b[0;36mLabelEncoder.fit_transform\u001b[0;34m(self, y)\u001b[0m\n\u001b[1;32m    244\u001b[0m \u001b[38;5;124;03m\"\"\"Fit label encoder and return encoded labels\u001b[39;00m\n\u001b[1;32m    245\u001b[0m \n\u001b[1;32m    246\u001b[0m \u001b[38;5;124;03mParameters\u001b[39;00m\n\u001b[0;32m   (...)\u001b[0m\n\u001b[1;32m    253\u001b[0m \u001b[38;5;124;03my : array-like of shape [n_samples]\u001b[39;00m\n\u001b[1;32m    254\u001b[0m \u001b[38;5;124;03m\"\"\"\u001b[39;00m\n\u001b[1;32m    255\u001b[0m y \u001b[38;5;241m=\u001b[39m column_or_1d(y, warn\u001b[38;5;241m=\u001b[39m\u001b[38;5;28;01mTrue\u001b[39;00m)\n\u001b[0;32m--> 256\u001b[0m \u001b[38;5;28mself\u001b[39m\u001b[38;5;241m.\u001b[39mclasses_, y \u001b[38;5;241m=\u001b[39m \u001b[43m_encode\u001b[49m\u001b[43m(\u001b[49m\u001b[43my\u001b[49m\u001b[43m,\u001b[49m\u001b[43m \u001b[49m\u001b[43mencode\u001b[49m\u001b[38;5;241;43m=\u001b[39;49m\u001b[38;5;28;43;01mTrue\u001b[39;49;00m\u001b[43m)\u001b[49m\n\u001b[1;32m    257\u001b[0m \u001b[38;5;28;01mreturn\u001b[39;00m y\n",
      "File \u001b[0;32m~/anaconda3/envs/ai/lib/python3.9/site-packages/sklearn/preprocessing/_label.py:117\u001b[0m, in \u001b[0;36m_encode\u001b[0;34m(values, uniques, encode, check_unknown)\u001b[0m\n\u001b[1;32m    114\u001b[0m     \u001b[38;5;28;01mexcept\u001b[39;00m \u001b[38;5;167;01mTypeError\u001b[39;00m:\n\u001b[1;32m    115\u001b[0m         types \u001b[38;5;241m=\u001b[39m \u001b[38;5;28msorted\u001b[39m(t\u001b[38;5;241m.\u001b[39m\u001b[38;5;18m__qualname__\u001b[39m\n\u001b[1;32m    116\u001b[0m                        \u001b[38;5;28;01mfor\u001b[39;00m t \u001b[38;5;129;01min\u001b[39;00m \u001b[38;5;28mset\u001b[39m(\u001b[38;5;28mtype\u001b[39m(v) \u001b[38;5;28;01mfor\u001b[39;00m v \u001b[38;5;129;01min\u001b[39;00m values))\n\u001b[0;32m--> 117\u001b[0m         \u001b[38;5;28;01mraise\u001b[39;00m \u001b[38;5;167;01mTypeError\u001b[39;00m(\u001b[38;5;124m\"\u001b[39m\u001b[38;5;124mEncoders require their input to be uniformly \u001b[39m\u001b[38;5;124m\"\u001b[39m\n\u001b[1;32m    118\u001b[0m                         \u001b[38;5;124mf\u001b[39m\u001b[38;5;124m\"\u001b[39m\u001b[38;5;124mstrings or numbers. Got \u001b[39m\u001b[38;5;132;01m{\u001b[39;00mtypes\u001b[38;5;132;01m}\u001b[39;00m\u001b[38;5;124m\"\u001b[39m)\n\u001b[1;32m    119\u001b[0m     \u001b[38;5;28;01mreturn\u001b[39;00m res\n\u001b[1;32m    120\u001b[0m \u001b[38;5;28;01melse\u001b[39;00m:\n",
      "\u001b[0;31mTypeError\u001b[0m: Encoders require their input to be uniformly strings or numbers. Got ['float', 'str']"
     ]
    }
   ],
   "source": [
    "cat_encoder = { }\n",
    "\n",
    "for i in cat_col:\n",
    "    print(df[i])\n",
    "    encoder = LabelEncoder()\n",
    "    df[i]= encoder.fit_transform(df[i])\n",
    "    cat_encoder[i]= encoder"
   ]
  },
  {
   "cell_type": "code",
   "execution_count": 29,
   "id": "f30dbcbd-2cac-4d00-bcad-f5500b75f1ce",
   "metadata": {},
   "outputs": [
    {
     "data": {
      "text/plain": [
       "MSZoning          int64\n",
       "Street            int64\n",
       "LotShape          int64\n",
       "LandContour       int64\n",
       "Utilities         int64\n",
       "LotConfig         int64\n",
       "LandSlope         int64\n",
       "Neighborhood      int64\n",
       "Condition1        int64\n",
       "Condition2        int64\n",
       "BldgType          int64\n",
       "HouseStyle        int64\n",
       "RoofStyle         int64\n",
       "RoofMatl          int64\n",
       "Exterior1st       int64\n",
       "Exterior2nd       int64\n",
       "MasVnrType       object\n",
       "ExterQual        object\n",
       "ExterCond        object\n",
       "Foundation       object\n",
       "BsmtQual         object\n",
       "BsmtCond         object\n",
       "BsmtExposure     object\n",
       "BsmtFinType1     object\n",
       "BsmtFinType2     object\n",
       "Heating          object\n",
       "HeatingQC        object\n",
       "CentralAir       object\n",
       "Electrical       object\n",
       "KitchenQual      object\n",
       "Functional       object\n",
       "GarageType       object\n",
       "GarageFinish     object\n",
       "GarageQual       object\n",
       "GarageCond       object\n",
       "PavedDrive       object\n",
       "SaleType         object\n",
       "SaleCondition    object\n",
       "dtype: object"
      ]
     },
     "execution_count": 29,
     "metadata": {},
     "output_type": "execute_result"
    }
   ],
   "source": [
    "df[cat_col].dtypes"
   ]
  },
  {
   "cell_type": "code",
   "execution_count": 30,
   "id": "662147a4-bef2-4bb1-b760-a98517c187b8",
   "metadata": {},
   "outputs": [
    {
     "data": {
      "text/plain": [
       "{'MSZoning': LabelEncoder(),\n",
       " 'Street': LabelEncoder(),\n",
       " 'LotShape': LabelEncoder(),\n",
       " 'LandContour': LabelEncoder(),\n",
       " 'Utilities': LabelEncoder(),\n",
       " 'LotConfig': LabelEncoder(),\n",
       " 'LandSlope': LabelEncoder(),\n",
       " 'Neighborhood': LabelEncoder(),\n",
       " 'Condition1': LabelEncoder(),\n",
       " 'Condition2': LabelEncoder(),\n",
       " 'BldgType': LabelEncoder(),\n",
       " 'HouseStyle': LabelEncoder(),\n",
       " 'RoofStyle': LabelEncoder(),\n",
       " 'RoofMatl': LabelEncoder(),\n",
       " 'Exterior1st': LabelEncoder(),\n",
       " 'Exterior2nd': LabelEncoder()}"
      ]
     },
     "execution_count": 30,
     "metadata": {},
     "output_type": "execute_result"
    }
   ],
   "source": [
    "cat_encoder"
   ]
  },
  {
   "cell_type": "code",
   "execution_count": null,
   "id": "0714f4d4-389f-4274-a7bb-3ded38bfcc23",
   "metadata": {},
   "outputs": [],
   "source": [
    "missing = df.isnull().sum().sort_values(ascending = False)\n",
    "print(missing[missing > 0])"
   ]
  },
  {
   "cell_type": "code",
   "execution_count": null,
   "id": "3e0802f7-fad4-458e-bdfd-b4d39e27e2ca",
   "metadata": {},
   "outputs": [],
   "source": [
    "df.dropna(inplace = True)"
   ]
  },
  {
   "cell_type": "code",
   "execution_count": null,
   "id": "09617eb5-6f20-4560-87bd-da788fcf3bc1",
   "metadata": {},
   "outputs": [],
   "source": [
    "numeric_col = df.select_dtypes(include = [np.number]).columns.to_list()\n",
    "num_col_x = numeric_col[:-1]\n",
    "num_col_y = numeric_col[-1]"
   ]
  },
  {
   "cell_type": "code",
   "execution_count": null,
   "id": "0d39e6f0-e062-46e9-b4ec-d46086f4a164",
   "metadata": {},
   "outputs": [],
   "source": [
    "print(num_col_x)\n",
    "print(num_col_y)"
   ]
  },
  {
   "cell_type": "code",
   "execution_count": null,
   "id": "5caa5e22-1f46-4c72-9b6a-882dd9cd159c",
   "metadata": {},
   "outputs": [],
   "source": [
    "print(numeric_col)"
   ]
  },
  {
   "cell_type": "code",
   "execution_count": null,
   "id": "61b74c42-3482-458c-8fcd-826bed9a3172",
   "metadata": {},
   "outputs": [],
   "source": [
    "df.head()"
   ]
  },
  {
   "cell_type": "code",
   "execution_count": null,
   "id": "abfcfefe-350a-4bb7-abad-1d4b2de1089b",
   "metadata": {},
   "outputs": [],
   "source": [
    "df[num_col_y].values"
   ]
  },
  {
   "cell_type": "code",
   "execution_count": null,
   "id": "cae5f2d3-9495-43af-bf17-c7a1b85753c3",
   "metadata": {},
   "outputs": [],
   "source": []
  },
  {
   "cell_type": "code",
   "execution_count": null,
   "id": "581b2e52-134e-4c06-8c2d-51e44c638254",
   "metadata": {},
   "outputs": [],
   "source": [
    "df.head()"
   ]
  },
  {
   "cell_type": "code",
   "execution_count": null,
   "id": "a3fbc9bb-0c14-47c2-a98b-608c783fab06",
   "metadata": {},
   "outputs": [],
   "source": [
    "df.to_csv(\"../data/processed/clean_train_data.csv\", index = False)"
   ]
  },
  {
   "cell_type": "code",
   "execution_count": null,
   "id": "30def145-e35a-4fa1-a8c9-612bb0e7af43",
   "metadata": {},
   "outputs": [],
   "source": [
    "import pickle"
   ]
  },
  {
   "cell_type": "code",
   "execution_count": null,
   "id": "a030155c-d7be-49d4-88cb-f23b82a60af8",
   "metadata": {},
   "outputs": [],
   "source": [
    "file = open('../models/data-cleaning-models/cat_encoder.pkl', 'wb')\n",
    "pickle.dump(cat_encoder, file)"
   ]
  },
  {
   "cell_type": "code",
   "execution_count": 17,
   "id": "d2da9fbf-ec7e-4999-80e8-b4c52d412a1d",
   "metadata": {},
   "outputs": [
    {
     "ename": "NameError",
     "evalue": "name 'pickle' is not defined",
     "output_type": "error",
     "traceback": [
      "\u001b[0;31m---------------------------------------------------------------------------\u001b[0m",
      "\u001b[0;31mNameError\u001b[0m                                 Traceback (most recent call last)",
      "Input \u001b[0;32mIn [17]\u001b[0m, in \u001b[0;36m<module>\u001b[0;34m\u001b[0m\n\u001b[1;32m      1\u001b[0m file1 \u001b[38;5;241m=\u001b[39m \u001b[38;5;28mopen\u001b[39m(\u001b[38;5;124m'\u001b[39m\u001b[38;5;124m../models/data-cleaning-models/scaler_x.pkl\u001b[39m\u001b[38;5;124m'\u001b[39m, \u001b[38;5;124m'\u001b[39m\u001b[38;5;124mwb\u001b[39m\u001b[38;5;124m'\u001b[39m)\n\u001b[0;32m----> 2\u001b[0m \u001b[43mpickle\u001b[49m\u001b[38;5;241m.\u001b[39mdump(cat_encoder, file1)\n\u001b[1;32m      4\u001b[0m file2 \u001b[38;5;241m=\u001b[39m \u001b[38;5;28mopen\u001b[39m(\u001b[38;5;124m'\u001b[39m\u001b[38;5;124m../models/data-cleaning-models/scaler_y.pkl\u001b[39m\u001b[38;5;124m'\u001b[39m, \u001b[38;5;124m'\u001b[39m\u001b[38;5;124mwb\u001b[39m\u001b[38;5;124m'\u001b[39m)\n\u001b[1;32m      5\u001b[0m pickle\u001b[38;5;241m.\u001b[39mdump(cat_encoder, file2)\n",
      "\u001b[0;31mNameError\u001b[0m: name 'pickle' is not defined"
     ]
    }
   ],
   "source": [
    "file1 = open('../models/data-cleaning-models/scaler_x.pkl', 'wb')\n",
    "pickle.dump(cat_encoder, file1)\n",
    "\n",
    "file2 = open('../models/data-cleaning-models/scaler_y.pkl', 'wb')\n",
    "pickle.dump(cat_encoder, file2)"
   ]
  },
  {
   "cell_type": "code",
   "execution_count": null,
   "id": "9581083d-5e11-48ba-bf7d-abfd94f98975",
   "metadata": {},
   "outputs": [],
   "source": []
  }
 ],
 "metadata": {
  "kernelspec": {
   "display_name": "Python 3 (ipykernel)",
   "language": "python",
   "name": "python3"
  },
  "language_info": {
   "codemirror_mode": {
    "name": "ipython",
    "version": 3
   },
   "file_extension": ".py",
   "mimetype": "text/x-python",
   "name": "python",
   "nbconvert_exporter": "python",
   "pygments_lexer": "ipython3",
   "version": "3.9.7"
  }
 },
 "nbformat": 4,
 "nbformat_minor": 5
}
